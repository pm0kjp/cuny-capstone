{
 "cells": [
  {
   "cell_type": "markdown",
   "metadata": {},
   "source": [
    "# Blog Scraping\n",
    "\n",
    "The goal of this script is to perform a number of tasks for each blog:\n",
    "\n",
    "- Spider the site to find all in-site url references to the site's blog posts (using regex to define what a blog text -- as opposed to a listing of posts or index page, etc. --  looks like)\n",
    "- Get all unique blog text urls\n",
    "- Go to each url and extract the text, adding it to a corpus of the blog texts for that blog\n",
    "- Save corpora to disk, so that we only have to crawl once and can analyze over and over without hitting the server\n",
    "\n",
    "After we set things up, we will demonstrate on a sample blog (so that you can see how the blog list should be set up) and also run the blog scraper on our (confidential) list of subject blogs.\n",
    "\n",
    "\n",
    "## Part 1: Setup\n",
    "\n",
    "First, we load modules we need."
   ]
  },
  {
   "cell_type": "code",
   "execution_count": 1,
   "metadata": {
    "collapsed": true
   },
   "outputs": [],
   "source": [
    "from bs4 import BeautifulSoup\n",
    "import pandas as pd\n",
    "import requests\n",
    "import pandas as pd\n",
    "import re\n",
    "import sys\n",
    "import pathlib"
   ]
  },
  {
   "cell_type": "markdown",
   "metadata": {},
   "source": [
    "It's also important to indicate what our assumptions are as far as data that this script needs.  \n",
    "\n",
    "This script depends on a blog list, which will be a data frame with two columns:\n",
    "* blog identifier (something like \"1\", \"TEST-1\", \"Autism-1\", etc.)\n",
    "* https-based blog url, ending in `/` (e.g. \"https://my.fake.blog.org/\")\n",
    "    \n",
    "This script will also write files to disk, so if you run it, you will need to run it in a directory that has a subdirectory called \"confidential\" and a directory under that called \"corpora\"."
   ]
  },
  {
   "cell_type": "markdown",
   "metadata": {},
   "source": [
    "Web scraping requires us to be respectful of the intellectual property of and server impact to the owners of the site we're scraping.\n",
    "\n",
    "We will crawl sites based on known sitemap architectures. We do not attempt a full-fledged spidering of sites and do not follow links.\n",
    "\n",
    "## Part 2: Define Functions\n",
    "\n",
    "The `getHTML` function simply gets an entire webpage.  This is platform independent (will work for Blogspot, Wordpress, etc.)"
   ]
  },
  {
   "cell_type": "code",
   "execution_count": 2,
   "metadata": {
    "collapsed": true
   },
   "outputs": [],
   "source": [
    "def getHTML(url):\n",
    "    try:\n",
    "        r = requests.get(url)\n",
    "    except: \n",
    "        print (\"ERROR in \" + url + \" with exception \" + str(sys.exc_info()[0]))\n",
    "        return(404)\n",
    "    if r.status_code != 200:\n",
    "        return(404)\n",
    "    htmltext = r.text\n",
    "    return(htmltext)"
   ]
  },
  {
   "cell_type": "markdown",
   "metadata": {},
   "source": [
    "`getWordpressLinks` takes a base url (like \"http://my.fake.blog.org/\") as a parameter, and uses what we know about Wordpress sites (blog posts are located in the `[site]/year/month/day` path, and links to blog posts for a given month can be located at `[site]/year/month`) to find all relevant links to blog posts for a given time point.  Links are then vetted according to the following rules:  \n",
    "\n",
    "* They must have the form `[site]/year/month/day/[post]`\n",
    "* They must not be double-counted -- we will strip duplicates using `set()`"
   ]
  },
  {
   "cell_type": "code",
   "execution_count": 3,
   "metadata": {
    "collapsed": true
   },
   "outputs": [],
   "source": [
    "def getWordpressLinks (site):\n",
    "        pattern = re.compile(re.escape(site) + \"\\d{4}/\\d{2}/\\d{2}/.+\")\n",
    "        avoid = \"#comment|#respond|\\?share=\"\n",
    "        links = set() # makes entries unique\n",
    "        year=2018 # stop point\n",
    "        month=4 # stop point\n",
    "        # recursively construct a single text that combines all blog text from this blogger from 2014-present\n",
    "        while year >= 2014:\n",
    "            page = site.strip() + str(\"%04d\" % (year)) + \"/\" + str(\"%02d\" % (month))\n",
    "            if month==1 :\n",
    "                month = 12\n",
    "                year = year - 1\n",
    "            else:\n",
    "                month = month - 1\n",
    "            html_content = getHTML(page)\n",
    "            if html_content!=404:\n",
    "                soup = BeautifulSoup(html_content, 'lxml')\n",
    "                for a in soup.find_all('a', href=True):\n",
    "                    possible_link = a.get('href')\n",
    "                    m = re.match(pattern, possible_link)\n",
    "                    unwanted = re.search(avoid, possible_link)\n",
    "                    if (m and unwanted is None):\n",
    "                        links.add(possible_link)\n",
    "        return(links)"
   ]
  },
  {
   "cell_type": "markdown",
   "metadata": {},
   "source": [
    "The `getLinks` function will take a blog list (see above for the expected format) and return a list of every link that looks like a blog post for each blog in the blog list. It uses the `getWordpressLinks` function."
   ]
  },
  {
   "cell_type": "code",
   "execution_count": 4,
   "metadata": {
    "collapsed": true
   },
   "outputs": [],
   "source": [
    "def getLinks(blogList):\n",
    "    links = pd.DataFrame(columns=[\"blog_identifier\",\"links\"])\n",
    "    for index, site in blogList.iterrows(): \n",
    "        new = pd.DataFrame({\"blog_identifier\": site[0], \"links\": list(getWordpressLinks(site[1]))})\n",
    "        links = pd.concat([links, new] )\n",
    "    return(links)"
   ]
  },
  {
   "cell_type": "markdown",
   "metadata": {},
   "source": [
    "The `groupLinks` function takes a data frame that has many rows, each of which has a single blog post and the blog identifier it came from, and returns a shorter data frame, where each blog identifier has a single row in which there is a list of all blog posts from that blog."
   ]
  },
  {
   "cell_type": "code",
   "execution_count": 5,
   "metadata": {
    "collapsed": true
   },
   "outputs": [],
   "source": [
    "def groupLinks(blogList):\n",
    "    grouped = getLinks(blogList).groupby(\"blog_identifier\")[\"links\"].apply(lambda x: list(x))\n",
    "    return(grouped)"
   ]
  },
  {
   "cell_type": "markdown",
   "metadata": {},
   "source": [
    "Many bloggers use the Wordpress platform for blogging.  Wordpress has a certain way it structures its html as well as blog entries, so we have a pair of functions that handle both the parsing of an individual post as well as the spidering of the blog (looking for all posts in a given time frame)."
   ]
  },
  {
   "cell_type": "code",
   "execution_count": 6,
   "metadata": {
    "collapsed": true
   },
   "outputs": [],
   "source": [
    "def parseWordpressSite(htmltext):\n",
    "    if (type(htmltext)) != str:\n",
    "        return(\"\")\n",
    "    soup = BeautifulSoup(htmltext, \"lxml\")\n",
    "    \n",
    "    # remove any .feedback (they're within our .post divs so we want them out so that \"Comments\", e.g., won't be included)\n",
    "    for div in soup.find_all(\"p\", {'class':'feedback'}): \n",
    "        div.decompose()\n",
    "\n",
    "    for script in soup.find_all (\"script\"):\n",
    "        script.decompose()\n",
    "        \n",
    "    # remove ads\n",
    "    for div in soup.find_all(\"div\", {'class': 'wpa'}):\n",
    "        div.decompose()\n",
    "        \n",
    "    # remove sharing links\n",
    "    for div in soup.find_all(\"div\", {'class': 'sharedaddy'}):\n",
    "        div.decompose()    \n",
    "    \n",
    "    # remove any .storydate (they're within our .post divs so we want them out, so that \"March\", e.g., won't be included)\n",
    "    for div in soup.find_all(class_ = \"storydate\"): \n",
    "        div.decompose()\n",
    "\n",
    "    # get only .post divs and .entry-content divs.\n",
    "    posthtml = soup.find_all(\"div\", class_=\"post\") + soup.find_all(\"div\", class_=\"entry-content\")\n",
    "    posttext = \"\"\n",
    "    for post in posthtml:\n",
    "        posttext += post.getText()\n",
    "    return(posttext)"
   ]
  },
  {
   "cell_type": "markdown",
   "metadata": {},
   "source": [
    "`writeCorporaToDisk` takes a grouped list of blog posts, scrapes the entire list of blog posts, and saves the scraped text and saves it as a file with the name including the blog identifier."
   ]
  },
  {
   "cell_type": "code",
   "execution_count": 7,
   "metadata": {
    "collapsed": true
   },
   "outputs": [],
   "source": [
    "def writeCorporaToDisk(blogList, parent_dir):\n",
    "    corpora_contents = []\n",
    "    for blog_identifier, post_list in groupLinks(blogList).iteritems():\n",
    "        # Handy for troubleshooting: \n",
    "        # print(\"analyzing blog \" + str(blog_identifier))\n",
    "        directory = \"blog_\" + str(blog_identifier)\n",
    "        pathlib.Path('../confidential/corpora/' + parent_dir + '/' + directory).mkdir(parents=True, exist_ok=True)\n",
    "        post_id = 1\n",
    "        for blog_url in post_list:\n",
    "            filename = re.sub(r\"[:./]+\", '_', str(blog_url))\n",
    "            htmltext = getHTML(blog_url)\n",
    "            poststring = parseWordpressSite(htmltext)\n",
    "            # remove and replace smart quotes, unreadable characters, new line chars, etc.\n",
    "            poststring = poststring.replace(\"\\xe2\\x80\\x9c\", \"'\").replace(\"\\xe2\\x80\\x9d\", \"'\") \n",
    "            poststring = poststring.replace('\\xe2\\x80\\x92', \" \").replace('\\xe2\\x80\\x93', \" \").replace('\\xe2\\x80\\x94', \" \")\n",
    "            poststring = poststring.replace(\"\\xe2\\x80\\x98\", \"'\").replace('\\xe2\\x80\\x99', \"'\")                                                                                                  \n",
    "            poststring = poststring.replace('\\n', \" \").replace('\\t', \" \").replace('\\xc2\\xa0',\" \")\n",
    "            poststring = poststring.replace(\"\\'\", \"'\")\n",
    "            # Write this blog's total corpus to file\n",
    "            file_name = \"../confidential/corpora/\" + parent_dir + '/' + directory + \"/\" + filename + \".txt\"\n",
    "            text_file = open(file_name, \"w\")\n",
    "            text_file.write(poststring)\n",
    "            text_file.close()\n",
    "            # Record what this blog post is so we can refer to it in a de-identified way\n",
    "            corpora_contents.append({\"post_id\":post_id, \\\n",
    "                                     \"blog_id\":blog_identifier, \\\n",
    "                                     \"file_name\":file_name}) #create dict of file name, blog id, post id\n",
    "            post_id += 1\n",
    "    return(corpora_contents)\n"
   ]
  },
  {
   "cell_type": "markdown",
   "metadata": {},
   "source": [
    "## Part 3: Demonstrate How This Works\n",
    "\n",
    "We are keeping the blogs themselves secret, so how can you know that this works?\n",
    "\n",
    "You will want to make sure you run this notebook in a directory that has directory at the same level (a sibling directory) called \"confidential\" which in turn contains \"corpora\".  Then, you can do the following.  NOTE that the blog I selected as examples is *not* a blog that is actually used in this research.  It is just a sample wordpress blog, intended to demonstrate how this notebook works and that this script works effectively."
   ]
  },
  {
   "cell_type": "code",
   "execution_count": 8,
   "metadata": {
    "collapsed": true
   },
   "outputs": [],
   "source": [
    "sample_blogs = pd.DataFrame(data = {\"blog_identifier\":['TEST1'], \n",
    "                            \"blog_url\":[\"https://en.blog.wordpress.com/\"]})"
   ]
  },
  {
   "cell_type": "code",
   "execution_count": 9,
   "metadata": {},
   "outputs": [
    {
     "data": {
      "text/html": [
       "<div>\n",
       "<style>\n",
       "    .dataframe thead tr:only-child th {\n",
       "        text-align: right;\n",
       "    }\n",
       "\n",
       "    .dataframe thead th {\n",
       "        text-align: left;\n",
       "    }\n",
       "\n",
       "    .dataframe tbody tr th {\n",
       "        vertical-align: top;\n",
       "    }\n",
       "</style>\n",
       "<table border=\"1\" class=\"dataframe\">\n",
       "  <thead>\n",
       "    <tr style=\"text-align: right;\">\n",
       "      <th></th>\n",
       "      <th>blog_identifier</th>\n",
       "      <th>blog_url</th>\n",
       "    </tr>\n",
       "  </thead>\n",
       "  <tbody>\n",
       "    <tr>\n",
       "      <th>0</th>\n",
       "      <td>TEST1</td>\n",
       "      <td>https://en.blog.wordpress.com/</td>\n",
       "    </tr>\n",
       "  </tbody>\n",
       "</table>\n",
       "</div>"
      ],
      "text/plain": [
       "  blog_identifier                        blog_url\n",
       "0           TEST1  https://en.blog.wordpress.com/"
      ]
     },
     "execution_count": 9,
     "metadata": {},
     "output_type": "execute_result"
    }
   ],
   "source": [
    "sample_blogs"
   ]
  },
  {
   "cell_type": "code",
   "execution_count": 10,
   "metadata": {
    "collapsed": true
   },
   "outputs": [],
   "source": [
    "sampleLinks = getLinks(sample_blogs)"
   ]
  },
  {
   "cell_type": "code",
   "execution_count": 12,
   "metadata": {
    "collapsed": true
   },
   "outputs": [],
   "source": [
    "sampleGrouped = groupLinks(sample_blogs)"
   ]
  },
  {
   "cell_type": "code",
   "execution_count": 13,
   "metadata": {},
   "outputs": [
    {
     "data": {
      "text/plain": [
       "blog_identifier\n",
       "TEST1    [https://en.blog.wordpress.com/2014/05/29/kell...\n",
       "Name: links, dtype: object"
      ]
     },
     "execution_count": 13,
     "metadata": {},
     "output_type": "execute_result"
    }
   ],
   "source": [
    "sampleGrouped"
   ]
  },
  {
   "cell_type": "code",
   "execution_count": 14,
   "metadata": {
    "collapsed": true
   },
   "outputs": [],
   "source": [
    "sample_blogs = writeCorporaToDisk(sample_blogs, \"sample\")"
   ]
  },
  {
   "cell_type": "markdown",
   "metadata": {},
   "source": [
    "Now, check in your confidential/corpora directory and you should see a new directory that contains all the scraped text in a text file for each post!  If we need to refer to individual blog posts without using their URL or filename (which include identifiable text), we can use sample_blogs to look at them:"
   ]
  },
  {
   "cell_type": "code",
   "execution_count": 15,
   "metadata": {},
   "outputs": [
    {
     "data": {
      "text/html": [
       "<div>\n",
       "<style>\n",
       "    .dataframe thead tr:only-child th {\n",
       "        text-align: right;\n",
       "    }\n",
       "\n",
       "    .dataframe thead th {\n",
       "        text-align: left;\n",
       "    }\n",
       "\n",
       "    .dataframe tbody tr th {\n",
       "        vertical-align: top;\n",
       "    }\n",
       "</style>\n",
       "<table border=\"1\" class=\"dataframe\">\n",
       "  <thead>\n",
       "    <tr style=\"text-align: right;\">\n",
       "      <th></th>\n",
       "      <th>blog_id</th>\n",
       "      <th>file_name</th>\n",
       "      <th>post_id</th>\n",
       "    </tr>\n",
       "  </thead>\n",
       "  <tbody>\n",
       "    <tr>\n",
       "      <th>0</th>\n",
       "      <td>TEST1</td>\n",
       "      <td>../confidential/corpora/sample/blog_TEST1/http...</td>\n",
       "      <td>1</td>\n",
       "    </tr>\n",
       "    <tr>\n",
       "      <th>1</th>\n",
       "      <td>TEST1</td>\n",
       "      <td>../confidential/corpora/sample/blog_TEST1/http...</td>\n",
       "      <td>2</td>\n",
       "    </tr>\n",
       "    <tr>\n",
       "      <th>2</th>\n",
       "      <td>TEST1</td>\n",
       "      <td>../confidential/corpora/sample/blog_TEST1/http...</td>\n",
       "      <td>3</td>\n",
       "    </tr>\n",
       "    <tr>\n",
       "      <th>3</th>\n",
       "      <td>TEST1</td>\n",
       "      <td>../confidential/corpora/sample/blog_TEST1/http...</td>\n",
       "      <td>4</td>\n",
       "    </tr>\n",
       "    <tr>\n",
       "      <th>4</th>\n",
       "      <td>TEST1</td>\n",
       "      <td>../confidential/corpora/sample/blog_TEST1/http...</td>\n",
       "      <td>5</td>\n",
       "    </tr>\n",
       "    <tr>\n",
       "      <th>5</th>\n",
       "      <td>TEST1</td>\n",
       "      <td>../confidential/corpora/sample/blog_TEST1/http...</td>\n",
       "      <td>6</td>\n",
       "    </tr>\n",
       "    <tr>\n",
       "      <th>6</th>\n",
       "      <td>TEST1</td>\n",
       "      <td>../confidential/corpora/sample/blog_TEST1/http...</td>\n",
       "      <td>7</td>\n",
       "    </tr>\n",
       "    <tr>\n",
       "      <th>7</th>\n",
       "      <td>TEST1</td>\n",
       "      <td>../confidential/corpora/sample/blog_TEST1/http...</td>\n",
       "      <td>8</td>\n",
       "    </tr>\n",
       "    <tr>\n",
       "      <th>8</th>\n",
       "      <td>TEST1</td>\n",
       "      <td>../confidential/corpora/sample/blog_TEST1/http...</td>\n",
       "      <td>9</td>\n",
       "    </tr>\n",
       "    <tr>\n",
       "      <th>9</th>\n",
       "      <td>TEST1</td>\n",
       "      <td>../confidential/corpora/sample/blog_TEST1/http...</td>\n",
       "      <td>10</td>\n",
       "    </tr>\n",
       "    <tr>\n",
       "      <th>10</th>\n",
       "      <td>TEST1</td>\n",
       "      <td>../confidential/corpora/sample/blog_TEST1/http...</td>\n",
       "      <td>11</td>\n",
       "    </tr>\n",
       "    <tr>\n",
       "      <th>11</th>\n",
       "      <td>TEST1</td>\n",
       "      <td>../confidential/corpora/sample/blog_TEST1/http...</td>\n",
       "      <td>12</td>\n",
       "    </tr>\n",
       "    <tr>\n",
       "      <th>12</th>\n",
       "      <td>TEST1</td>\n",
       "      <td>../confidential/corpora/sample/blog_TEST1/http...</td>\n",
       "      <td>13</td>\n",
       "    </tr>\n",
       "    <tr>\n",
       "      <th>13</th>\n",
       "      <td>TEST1</td>\n",
       "      <td>../confidential/corpora/sample/blog_TEST1/http...</td>\n",
       "      <td>14</td>\n",
       "    </tr>\n",
       "    <tr>\n",
       "      <th>14</th>\n",
       "      <td>TEST1</td>\n",
       "      <td>../confidential/corpora/sample/blog_TEST1/http...</td>\n",
       "      <td>15</td>\n",
       "    </tr>\n",
       "    <tr>\n",
       "      <th>15</th>\n",
       "      <td>TEST1</td>\n",
       "      <td>../confidential/corpora/sample/blog_TEST1/http...</td>\n",
       "      <td>16</td>\n",
       "    </tr>\n",
       "    <tr>\n",
       "      <th>16</th>\n",
       "      <td>TEST1</td>\n",
       "      <td>../confidential/corpora/sample/blog_TEST1/http...</td>\n",
       "      <td>17</td>\n",
       "    </tr>\n",
       "    <tr>\n",
       "      <th>17</th>\n",
       "      <td>TEST1</td>\n",
       "      <td>../confidential/corpora/sample/blog_TEST1/http...</td>\n",
       "      <td>18</td>\n",
       "    </tr>\n",
       "    <tr>\n",
       "      <th>18</th>\n",
       "      <td>TEST1</td>\n",
       "      <td>../confidential/corpora/sample/blog_TEST1/http...</td>\n",
       "      <td>19</td>\n",
       "    </tr>\n",
       "    <tr>\n",
       "      <th>19</th>\n",
       "      <td>TEST1</td>\n",
       "      <td>../confidential/corpora/sample/blog_TEST1/http...</td>\n",
       "      <td>20</td>\n",
       "    </tr>\n",
       "    <tr>\n",
       "      <th>20</th>\n",
       "      <td>TEST1</td>\n",
       "      <td>../confidential/corpora/sample/blog_TEST1/http...</td>\n",
       "      <td>21</td>\n",
       "    </tr>\n",
       "    <tr>\n",
       "      <th>21</th>\n",
       "      <td>TEST1</td>\n",
       "      <td>../confidential/corpora/sample/blog_TEST1/http...</td>\n",
       "      <td>22</td>\n",
       "    </tr>\n",
       "    <tr>\n",
       "      <th>22</th>\n",
       "      <td>TEST1</td>\n",
       "      <td>../confidential/corpora/sample/blog_TEST1/http...</td>\n",
       "      <td>23</td>\n",
       "    </tr>\n",
       "    <tr>\n",
       "      <th>23</th>\n",
       "      <td>TEST1</td>\n",
       "      <td>../confidential/corpora/sample/blog_TEST1/http...</td>\n",
       "      <td>24</td>\n",
       "    </tr>\n",
       "    <tr>\n",
       "      <th>24</th>\n",
       "      <td>TEST1</td>\n",
       "      <td>../confidential/corpora/sample/blog_TEST1/http...</td>\n",
       "      <td>25</td>\n",
       "    </tr>\n",
       "    <tr>\n",
       "      <th>25</th>\n",
       "      <td>TEST1</td>\n",
       "      <td>../confidential/corpora/sample/blog_TEST1/http...</td>\n",
       "      <td>26</td>\n",
       "    </tr>\n",
       "    <tr>\n",
       "      <th>26</th>\n",
       "      <td>TEST1</td>\n",
       "      <td>../confidential/corpora/sample/blog_TEST1/http...</td>\n",
       "      <td>27</td>\n",
       "    </tr>\n",
       "    <tr>\n",
       "      <th>27</th>\n",
       "      <td>TEST1</td>\n",
       "      <td>../confidential/corpora/sample/blog_TEST1/http...</td>\n",
       "      <td>28</td>\n",
       "    </tr>\n",
       "    <tr>\n",
       "      <th>28</th>\n",
       "      <td>TEST1</td>\n",
       "      <td>../confidential/corpora/sample/blog_TEST1/http...</td>\n",
       "      <td>29</td>\n",
       "    </tr>\n",
       "    <tr>\n",
       "      <th>29</th>\n",
       "      <td>TEST1</td>\n",
       "      <td>../confidential/corpora/sample/blog_TEST1/http...</td>\n",
       "      <td>30</td>\n",
       "    </tr>\n",
       "    <tr>\n",
       "      <th>...</th>\n",
       "      <td>...</td>\n",
       "      <td>...</td>\n",
       "      <td>...</td>\n",
       "    </tr>\n",
       "    <tr>\n",
       "      <th>417</th>\n",
       "      <td>TEST1</td>\n",
       "      <td>../confidential/corpora/sample/blog_TEST1/http...</td>\n",
       "      <td>418</td>\n",
       "    </tr>\n",
       "    <tr>\n",
       "      <th>418</th>\n",
       "      <td>TEST1</td>\n",
       "      <td>../confidential/corpora/sample/blog_TEST1/http...</td>\n",
       "      <td>419</td>\n",
       "    </tr>\n",
       "    <tr>\n",
       "      <th>419</th>\n",
       "      <td>TEST1</td>\n",
       "      <td>../confidential/corpora/sample/blog_TEST1/http...</td>\n",
       "      <td>420</td>\n",
       "    </tr>\n",
       "    <tr>\n",
       "      <th>420</th>\n",
       "      <td>TEST1</td>\n",
       "      <td>../confidential/corpora/sample/blog_TEST1/http...</td>\n",
       "      <td>421</td>\n",
       "    </tr>\n",
       "    <tr>\n",
       "      <th>421</th>\n",
       "      <td>TEST1</td>\n",
       "      <td>../confidential/corpora/sample/blog_TEST1/http...</td>\n",
       "      <td>422</td>\n",
       "    </tr>\n",
       "    <tr>\n",
       "      <th>422</th>\n",
       "      <td>TEST1</td>\n",
       "      <td>../confidential/corpora/sample/blog_TEST1/http...</td>\n",
       "      <td>423</td>\n",
       "    </tr>\n",
       "    <tr>\n",
       "      <th>423</th>\n",
       "      <td>TEST1</td>\n",
       "      <td>../confidential/corpora/sample/blog_TEST1/http...</td>\n",
       "      <td>424</td>\n",
       "    </tr>\n",
       "    <tr>\n",
       "      <th>424</th>\n",
       "      <td>TEST1</td>\n",
       "      <td>../confidential/corpora/sample/blog_TEST1/http...</td>\n",
       "      <td>425</td>\n",
       "    </tr>\n",
       "    <tr>\n",
       "      <th>425</th>\n",
       "      <td>TEST1</td>\n",
       "      <td>../confidential/corpora/sample/blog_TEST1/http...</td>\n",
       "      <td>426</td>\n",
       "    </tr>\n",
       "    <tr>\n",
       "      <th>426</th>\n",
       "      <td>TEST1</td>\n",
       "      <td>../confidential/corpora/sample/blog_TEST1/http...</td>\n",
       "      <td>427</td>\n",
       "    </tr>\n",
       "    <tr>\n",
       "      <th>427</th>\n",
       "      <td>TEST1</td>\n",
       "      <td>../confidential/corpora/sample/blog_TEST1/http...</td>\n",
       "      <td>428</td>\n",
       "    </tr>\n",
       "    <tr>\n",
       "      <th>428</th>\n",
       "      <td>TEST1</td>\n",
       "      <td>../confidential/corpora/sample/blog_TEST1/http...</td>\n",
       "      <td>429</td>\n",
       "    </tr>\n",
       "    <tr>\n",
       "      <th>429</th>\n",
       "      <td>TEST1</td>\n",
       "      <td>../confidential/corpora/sample/blog_TEST1/http...</td>\n",
       "      <td>430</td>\n",
       "    </tr>\n",
       "    <tr>\n",
       "      <th>430</th>\n",
       "      <td>TEST1</td>\n",
       "      <td>../confidential/corpora/sample/blog_TEST1/http...</td>\n",
       "      <td>431</td>\n",
       "    </tr>\n",
       "    <tr>\n",
       "      <th>431</th>\n",
       "      <td>TEST1</td>\n",
       "      <td>../confidential/corpora/sample/blog_TEST1/http...</td>\n",
       "      <td>432</td>\n",
       "    </tr>\n",
       "    <tr>\n",
       "      <th>432</th>\n",
       "      <td>TEST1</td>\n",
       "      <td>../confidential/corpora/sample/blog_TEST1/http...</td>\n",
       "      <td>433</td>\n",
       "    </tr>\n",
       "    <tr>\n",
       "      <th>433</th>\n",
       "      <td>TEST1</td>\n",
       "      <td>../confidential/corpora/sample/blog_TEST1/http...</td>\n",
       "      <td>434</td>\n",
       "    </tr>\n",
       "    <tr>\n",
       "      <th>434</th>\n",
       "      <td>TEST1</td>\n",
       "      <td>../confidential/corpora/sample/blog_TEST1/http...</td>\n",
       "      <td>435</td>\n",
       "    </tr>\n",
       "    <tr>\n",
       "      <th>435</th>\n",
       "      <td>TEST1</td>\n",
       "      <td>../confidential/corpora/sample/blog_TEST1/http...</td>\n",
       "      <td>436</td>\n",
       "    </tr>\n",
       "    <tr>\n",
       "      <th>436</th>\n",
       "      <td>TEST1</td>\n",
       "      <td>../confidential/corpora/sample/blog_TEST1/http...</td>\n",
       "      <td>437</td>\n",
       "    </tr>\n",
       "    <tr>\n",
       "      <th>437</th>\n",
       "      <td>TEST1</td>\n",
       "      <td>../confidential/corpora/sample/blog_TEST1/http...</td>\n",
       "      <td>438</td>\n",
       "    </tr>\n",
       "    <tr>\n",
       "      <th>438</th>\n",
       "      <td>TEST1</td>\n",
       "      <td>../confidential/corpora/sample/blog_TEST1/http...</td>\n",
       "      <td>439</td>\n",
       "    </tr>\n",
       "    <tr>\n",
       "      <th>439</th>\n",
       "      <td>TEST1</td>\n",
       "      <td>../confidential/corpora/sample/blog_TEST1/http...</td>\n",
       "      <td>440</td>\n",
       "    </tr>\n",
       "    <tr>\n",
       "      <th>440</th>\n",
       "      <td>TEST1</td>\n",
       "      <td>../confidential/corpora/sample/blog_TEST1/http...</td>\n",
       "      <td>441</td>\n",
       "    </tr>\n",
       "    <tr>\n",
       "      <th>441</th>\n",
       "      <td>TEST1</td>\n",
       "      <td>../confidential/corpora/sample/blog_TEST1/http...</td>\n",
       "      <td>442</td>\n",
       "    </tr>\n",
       "    <tr>\n",
       "      <th>442</th>\n",
       "      <td>TEST1</td>\n",
       "      <td>../confidential/corpora/sample/blog_TEST1/http...</td>\n",
       "      <td>443</td>\n",
       "    </tr>\n",
       "    <tr>\n",
       "      <th>443</th>\n",
       "      <td>TEST1</td>\n",
       "      <td>../confidential/corpora/sample/blog_TEST1/http...</td>\n",
       "      <td>444</td>\n",
       "    </tr>\n",
       "    <tr>\n",
       "      <th>444</th>\n",
       "      <td>TEST1</td>\n",
       "      <td>../confidential/corpora/sample/blog_TEST1/http...</td>\n",
       "      <td>445</td>\n",
       "    </tr>\n",
       "    <tr>\n",
       "      <th>445</th>\n",
       "      <td>TEST1</td>\n",
       "      <td>../confidential/corpora/sample/blog_TEST1/http...</td>\n",
       "      <td>446</td>\n",
       "    </tr>\n",
       "    <tr>\n",
       "      <th>446</th>\n",
       "      <td>TEST1</td>\n",
       "      <td>../confidential/corpora/sample/blog_TEST1/http...</td>\n",
       "      <td>447</td>\n",
       "    </tr>\n",
       "  </tbody>\n",
       "</table>\n",
       "<p>447 rows × 3 columns</p>\n",
       "</div>"
      ],
      "text/plain": [
       "    blog_id                                          file_name  post_id\n",
       "0     TEST1  ../confidential/corpora/sample/blog_TEST1/http...        1\n",
       "1     TEST1  ../confidential/corpora/sample/blog_TEST1/http...        2\n",
       "2     TEST1  ../confidential/corpora/sample/blog_TEST1/http...        3\n",
       "3     TEST1  ../confidential/corpora/sample/blog_TEST1/http...        4\n",
       "4     TEST1  ../confidential/corpora/sample/blog_TEST1/http...        5\n",
       "5     TEST1  ../confidential/corpora/sample/blog_TEST1/http...        6\n",
       "6     TEST1  ../confidential/corpora/sample/blog_TEST1/http...        7\n",
       "7     TEST1  ../confidential/corpora/sample/blog_TEST1/http...        8\n",
       "8     TEST1  ../confidential/corpora/sample/blog_TEST1/http...        9\n",
       "9     TEST1  ../confidential/corpora/sample/blog_TEST1/http...       10\n",
       "10    TEST1  ../confidential/corpora/sample/blog_TEST1/http...       11\n",
       "11    TEST1  ../confidential/corpora/sample/blog_TEST1/http...       12\n",
       "12    TEST1  ../confidential/corpora/sample/blog_TEST1/http...       13\n",
       "13    TEST1  ../confidential/corpora/sample/blog_TEST1/http...       14\n",
       "14    TEST1  ../confidential/corpora/sample/blog_TEST1/http...       15\n",
       "15    TEST1  ../confidential/corpora/sample/blog_TEST1/http...       16\n",
       "16    TEST1  ../confidential/corpora/sample/blog_TEST1/http...       17\n",
       "17    TEST1  ../confidential/corpora/sample/blog_TEST1/http...       18\n",
       "18    TEST1  ../confidential/corpora/sample/blog_TEST1/http...       19\n",
       "19    TEST1  ../confidential/corpora/sample/blog_TEST1/http...       20\n",
       "20    TEST1  ../confidential/corpora/sample/blog_TEST1/http...       21\n",
       "21    TEST1  ../confidential/corpora/sample/blog_TEST1/http...       22\n",
       "22    TEST1  ../confidential/corpora/sample/blog_TEST1/http...       23\n",
       "23    TEST1  ../confidential/corpora/sample/blog_TEST1/http...       24\n",
       "24    TEST1  ../confidential/corpora/sample/blog_TEST1/http...       25\n",
       "25    TEST1  ../confidential/corpora/sample/blog_TEST1/http...       26\n",
       "26    TEST1  ../confidential/corpora/sample/blog_TEST1/http...       27\n",
       "27    TEST1  ../confidential/corpora/sample/blog_TEST1/http...       28\n",
       "28    TEST1  ../confidential/corpora/sample/blog_TEST1/http...       29\n",
       "29    TEST1  ../confidential/corpora/sample/blog_TEST1/http...       30\n",
       "..      ...                                                ...      ...\n",
       "417   TEST1  ../confidential/corpora/sample/blog_TEST1/http...      418\n",
       "418   TEST1  ../confidential/corpora/sample/blog_TEST1/http...      419\n",
       "419   TEST1  ../confidential/corpora/sample/blog_TEST1/http...      420\n",
       "420   TEST1  ../confidential/corpora/sample/blog_TEST1/http...      421\n",
       "421   TEST1  ../confidential/corpora/sample/blog_TEST1/http...      422\n",
       "422   TEST1  ../confidential/corpora/sample/blog_TEST1/http...      423\n",
       "423   TEST1  ../confidential/corpora/sample/blog_TEST1/http...      424\n",
       "424   TEST1  ../confidential/corpora/sample/blog_TEST1/http...      425\n",
       "425   TEST1  ../confidential/corpora/sample/blog_TEST1/http...      426\n",
       "426   TEST1  ../confidential/corpora/sample/blog_TEST1/http...      427\n",
       "427   TEST1  ../confidential/corpora/sample/blog_TEST1/http...      428\n",
       "428   TEST1  ../confidential/corpora/sample/blog_TEST1/http...      429\n",
       "429   TEST1  ../confidential/corpora/sample/blog_TEST1/http...      430\n",
       "430   TEST1  ../confidential/corpora/sample/blog_TEST1/http...      431\n",
       "431   TEST1  ../confidential/corpora/sample/blog_TEST1/http...      432\n",
       "432   TEST1  ../confidential/corpora/sample/blog_TEST1/http...      433\n",
       "433   TEST1  ../confidential/corpora/sample/blog_TEST1/http...      434\n",
       "434   TEST1  ../confidential/corpora/sample/blog_TEST1/http...      435\n",
       "435   TEST1  ../confidential/corpora/sample/blog_TEST1/http...      436\n",
       "436   TEST1  ../confidential/corpora/sample/blog_TEST1/http...      437\n",
       "437   TEST1  ../confidential/corpora/sample/blog_TEST1/http...      438\n",
       "438   TEST1  ../confidential/corpora/sample/blog_TEST1/http...      439\n",
       "439   TEST1  ../confidential/corpora/sample/blog_TEST1/http...      440\n",
       "440   TEST1  ../confidential/corpora/sample/blog_TEST1/http...      441\n",
       "441   TEST1  ../confidential/corpora/sample/blog_TEST1/http...      442\n",
       "442   TEST1  ../confidential/corpora/sample/blog_TEST1/http...      443\n",
       "443   TEST1  ../confidential/corpora/sample/blog_TEST1/http...      444\n",
       "444   TEST1  ../confidential/corpora/sample/blog_TEST1/http...      445\n",
       "445   TEST1  ../confidential/corpora/sample/blog_TEST1/http...      446\n",
       "446   TEST1  ../confidential/corpora/sample/blog_TEST1/http...      447\n",
       "\n",
       "[447 rows x 3 columns]"
      ]
     },
     "execution_count": 15,
     "metadata": {},
     "output_type": "execute_result"
    }
   ],
   "source": [
    "pd.DataFrame(sample_blogs)"
   ]
  },
  {
   "cell_type": "markdown",
   "metadata": {},
   "source": [
    "We can then write the table to a CSV as below (put in your own file name!)"
   ]
  },
  {
   "cell_type": "code",
   "execution_count": 16,
   "metadata": {
    "collapsed": true
   },
   "outputs": [],
   "source": [
    "#pd.DataFrame(sample_blogs).to_csv(\"sample_blogs.csv\", index=False)"
   ]
  },
  {
   "cell_type": "markdown",
   "metadata": {},
   "source": [
    "-------------------\n",
    "\n",
    "# Note: \n",
    "\n",
    "Below this point, you should alter the code to include your OWN list of blogs!\n",
    "\n",
    "--------------------"
   ]
  },
  {
   "cell_type": "markdown",
   "metadata": {},
   "source": [
    "## Part 4: Obtain list of blogs\n",
    "\n",
    "Note that the actual blogs used are confidential, to preserve the privacy of the bloggers.  We pull here from a text file that has the main url of each blog on a separate line.  Note that to preserve the privacy of subjects, the blog lists are not included in the GitHub repository for this project.  This will *not* work for you, unless you create your own `ASD_wordpress_bloggers.csv` file."
   ]
  },
  {
   "cell_type": "code",
   "execution_count": 11,
   "metadata": {
    "collapsed": true
   },
   "outputs": [],
   "source": [
    "controlWordpressBlogList1 = pd.read_csv(\"../confidential/control_wordpress_bloggers_1.csv\", header=0)\n",
    "controlWordpressBlogList2 = pd.read_csv(\"../confidential/control_wordpress_bloggers_2.csv\", header=0)\n",
    "controlWordpressBlogList3 = pd.read_csv(\"../confidential/control_wordpress_bloggers_3.csv\", header=0)"
   ]
  },
  {
   "cell_type": "code",
   "execution_count": 18,
   "metadata": {
    "collapsed": true
   },
   "outputs": [],
   "source": [
    "autismWordpressBlogList = pd.read_csv(\"../confidential/ASD_wordpress_bloggers.csv\", header=0)"
   ]
  },
  {
   "cell_type": "markdown",
   "metadata": {},
   "source": [
    "## Part 5: Obtain blog texts\n",
    "\n",
    "Note that we oversample controls heavily in order to have sufficient numbers for a good match."
   ]
  },
  {
   "cell_type": "code",
   "execution_count": 19,
   "metadata": {
    "collapsed": true
   },
   "outputs": [],
   "source": [
    "autism_posts = writeCorporaToDisk(autismWordpressBlogList, \"ASD\")\n",
    "pd.DataFrame(autism_posts).to_csv(\"../confidential/file_lists/ASD.csv\")"
   ]
  },
  {
   "cell_type": "code",
   "execution_count": 13,
   "metadata": {
    "collapsed": true
   },
   "outputs": [],
   "source": [
    "control_posts_1 = writeCorporaToDisk(controlWordpressBlogList1, \"controls\")\n",
    "pd.DataFrame(control_posts_1).to_csv(\"../confidential/file_lists/controls_1.csv\")\n",
    "\n",
    "control_posts_2 = writeCorporaToDisk(controlWordpressBlogList2, \"controls\")\n",
    "pd.DataFrame(control_posts_2).to_csv(\"../confidential/file_lists/controls_2.csv\")\n",
    "\n",
    "control_posts_3 = writeCorporaToDisk(controlWordpressBlogList3, \"controls\")\n",
    "pd.DataFrame(control_posts_3).to_csv(\"../confidential/file_lists/controls_3.csv\")"
   ]
  }
 ],
 "metadata": {
  "kernelspec": {
   "display_name": "Python 3",
   "language": "python",
   "name": "python3"
  },
  "language_info": {
   "codemirror_mode": {
    "name": "ipython",
    "version": 3
   },
   "file_extension": ".py",
   "mimetype": "text/x-python",
   "name": "python",
   "nbconvert_exporter": "python",
   "pygments_lexer": "ipython3",
   "version": "3.6.3"
  }
 },
 "nbformat": 4,
 "nbformat_minor": 2
}
