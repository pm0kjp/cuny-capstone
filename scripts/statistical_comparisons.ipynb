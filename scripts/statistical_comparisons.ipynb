{
 "cells": [
  {
   "cell_type": "markdown",
   "metadata": {},
   "source": [
    "## Obtain Part of Speech Data"
   ]
  },
  {
   "cell_type": "code",
   "execution_count": 1,
   "metadata": {
    "collapsed": true
   },
   "outputs": [],
   "source": [
    "import pandas as pd\n",
    "from scipy.stats import ttest_ind\n",
    "from statistics import mean, stdev\n",
    "from math import sqrt\n",
    "import matplotlib.pyplot as plt\n",
    "%matplotlib inline\n",
    "plt.rcParams.update({'font.size': 18})"
   ]
  },
  {
   "cell_type": "code",
   "execution_count": 2,
   "metadata": {
    "collapsed": true
   },
   "outputs": [],
   "source": [
    "asdPOS = pd.read_csv(\"../confidential/ASD_POS_stats.csv\")\n",
    "controlsPOS = pd.read_csv(\"../confidential/controls_POS_stats.csv\")"
   ]
  },
  {
   "cell_type": "markdown",
   "metadata": {},
   "source": [
    "Eliminate the controls that were not matched with ASD blogs.  We oversampled controls, so now let's trim to just the pairwise matched control blogs."
   ]
  },
  {
   "cell_type": "code",
   "execution_count": 3,
   "metadata": {
    "collapsed": true
   },
   "outputs": [],
   "source": [
    "matched_to_asd = pd.read_csv(\"../confidential/controls_matching.csv\")\n",
    "matched_to_asd = matched_to_asd.loc[matched_to_asd['matched_with'] >= 0]"
   ]
  },
  {
   "cell_type": "code",
   "execution_count": 4,
   "metadata": {
    "collapsed": true
   },
   "outputs": [],
   "source": [
    "controlsPOS = controlsPOS.loc[controlsPOS['blog_name'].isin(matched_to_asd['blog'])]"
   ]
  },
  {
   "cell_type": "markdown",
   "metadata": {},
   "source": [
    "## Get Word Count"
   ]
  },
  {
   "cell_type": "code",
   "execution_count": 5,
   "metadata": {},
   "outputs": [
    {
     "data": {
      "text/plain": [
       "3941564"
      ]
     },
     "execution_count": 5,
     "metadata": {},
     "output_type": "execute_result"
    }
   ],
   "source": [
    "controlsPOS['word_count'].sum()"
   ]
  },
  {
   "cell_type": "code",
   "execution_count": 6,
   "metadata": {},
   "outputs": [
    {
     "data": {
      "text/plain": [
       "3856577"
      ]
     },
     "execution_count": 6,
     "metadata": {},
     "output_type": "execute_result"
    }
   ],
   "source": [
    "asdPOS['word_count'].sum()"
   ]
  },
  {
   "cell_type": "markdown",
   "metadata": {},
   "source": [
    "## Calculate Proportions\n",
    "\n",
    "We'll want to have the sum of all parts of speech to see proportions."
   ]
  },
  {
   "cell_type": "code",
   "execution_count": 7,
   "metadata": {
    "collapsed": true
   },
   "outputs": [],
   "source": [
    "asdPOS['sum']=asdPOS.sum(axis=1)\n",
    "asdPOS = asdPOS[asdPOS[\"sum\"] != 0]\n",
    "\n",
    "controlsPOS['sum']=controlsPOS.sum(axis=1)\n",
    "controlsPOS = controlsPOS[controlsPOS[\"sum\"] != 0]"
   ]
  },
  {
   "cell_type": "markdown",
   "metadata": {},
   "source": [
    "We're interested particularly in pronouns and possessives: \n",
    "\n",
    "* personal pronouns (*he*, *I*) are represented by PRP\n",
    "* possessive pronouns (*my*, *yours*) by PRP\\$\n",
    "* possessive endings (*Bob's*, *Akil's*, *brother's*) by POS\n",
    "* wh-type pronouns (*who*, *whom*) by WP\n",
    "* wh-type posessive pronouns (*whose*) by WP\\$"
   ]
  },
  {
   "cell_type": "code",
   "execution_count": 8,
   "metadata": {
    "collapsed": true
   },
   "outputs": [],
   "source": [
    "pronouns_possessives = [\"POS\", \"PRP\", \"PRP$\", \"WP\", \"WP$\",\"sum\"]"
   ]
  },
  {
   "cell_type": "markdown",
   "metadata": {},
   "source": [
    "Let's peek at what our POS data frames look like. Because the dollar sign causes problems in rendering Jupyter notebooks in GitHub, we'll replace it before proceeding."
   ]
  },
  {
   "cell_type": "code",
   "execution_count": 9,
   "metadata": {},
   "outputs": [
    {
     "data": {
      "text/html": [
       "<div>\n",
       "<style>\n",
       "    .dataframe thead tr:only-child th {\n",
       "        text-align: right;\n",
       "    }\n",
       "\n",
       "    .dataframe thead th {\n",
       "        text-align: left;\n",
       "    }\n",
       "\n",
       "    .dataframe tbody tr th {\n",
       "        vertical-align: top;\n",
       "    }\n",
       "</style>\n",
       "<table border=\"1\" class=\"dataframe\">\n",
       "  <thead>\n",
       "    <tr style=\"text-align: right;\">\n",
       "      <th></th>\n",
       "      <th>possessive-endings</th>\n",
       "      <th>personal</th>\n",
       "      <th>possessive</th>\n",
       "      <th>wh-non-possessive</th>\n",
       "      <th>wh-possessive</th>\n",
       "      <th>sum</th>\n",
       "    </tr>\n",
       "  </thead>\n",
       "  <tbody>\n",
       "    <tr>\n",
       "      <th>0</th>\n",
       "      <td>10.0</td>\n",
       "      <td>17928.0</td>\n",
       "      <td>6795.0</td>\n",
       "      <td>2336.0</td>\n",
       "      <td>36.0</td>\n",
       "      <td>716455.0</td>\n",
       "    </tr>\n",
       "    <tr>\n",
       "      <th>1</th>\n",
       "      <td>NaN</td>\n",
       "      <td>768.0</td>\n",
       "      <td>358.0</td>\n",
       "      <td>113.0</td>\n",
       "      <td>1.0</td>\n",
       "      <td>31889.0</td>\n",
       "    </tr>\n",
       "    <tr>\n",
       "      <th>2</th>\n",
       "      <td>NaN</td>\n",
       "      <td>969.0</td>\n",
       "      <td>521.0</td>\n",
       "      <td>77.0</td>\n",
       "      <td>NaN</td>\n",
       "      <td>37167.0</td>\n",
       "    </tr>\n",
       "    <tr>\n",
       "      <th>3</th>\n",
       "      <td>NaN</td>\n",
       "      <td>4036.0</td>\n",
       "      <td>2355.0</td>\n",
       "      <td>654.0</td>\n",
       "      <td>5.0</td>\n",
       "      <td>207147.0</td>\n",
       "    </tr>\n",
       "    <tr>\n",
       "      <th>4</th>\n",
       "      <td>NaN</td>\n",
       "      <td>1245.0</td>\n",
       "      <td>521.0</td>\n",
       "      <td>223.0</td>\n",
       "      <td>8.0</td>\n",
       "      <td>56994.0</td>\n",
       "    </tr>\n",
       "  </tbody>\n",
       "</table>\n",
       "</div>"
      ],
      "text/plain": [
       "   possessive-endings  personal  possessive  wh-non-possessive  wh-possessive  \\\n",
       "0                10.0   17928.0      6795.0             2336.0           36.0   \n",
       "1                 NaN     768.0       358.0              113.0            1.0   \n",
       "2                 NaN     969.0       521.0               77.0            NaN   \n",
       "3                 NaN    4036.0      2355.0              654.0            5.0   \n",
       "4                 NaN    1245.0       521.0              223.0            8.0   \n",
       "\n",
       "        sum  \n",
       "0  716455.0  \n",
       "1   31889.0  \n",
       "2   37167.0  \n",
       "3  207147.0  \n",
       "4   56994.0  "
      ]
     },
     "execution_count": 9,
     "metadata": {},
     "output_type": "execute_result"
    }
   ],
   "source": [
    "asd_selected_POS=asdPOS[pronouns_possessives]\n",
    "asd_selected_POS=asd_selected_POS.rename(columns={'POS' : 'possessive-endings','PRP': 'personal', 'PRP$': 'possessive', 'WP': 'wh-non-possessive', 'WP$': 'wh-possessive'})\n",
    "asd_selected_POS.head()"
   ]
  },
  {
   "cell_type": "code",
   "execution_count": 10,
   "metadata": {},
   "outputs": [
    {
     "data": {
      "text/html": [
       "<div>\n",
       "<style>\n",
       "    .dataframe thead tr:only-child th {\n",
       "        text-align: right;\n",
       "    }\n",
       "\n",
       "    .dataframe thead th {\n",
       "        text-align: left;\n",
       "    }\n",
       "\n",
       "    .dataframe tbody tr th {\n",
       "        vertical-align: top;\n",
       "    }\n",
       "</style>\n",
       "<table border=\"1\" class=\"dataframe\">\n",
       "  <thead>\n",
       "    <tr style=\"text-align: right;\">\n",
       "      <th></th>\n",
       "      <th>possessive-endings</th>\n",
       "      <th>personal</th>\n",
       "      <th>possessive</th>\n",
       "      <th>wh-non-possessive</th>\n",
       "      <th>wh-possessive</th>\n",
       "      <th>sum</th>\n",
       "    </tr>\n",
       "  </thead>\n",
       "  <tbody>\n",
       "    <tr>\n",
       "      <th>6</th>\n",
       "      <td>NaN</td>\n",
       "      <td>5087.0</td>\n",
       "      <td>2704.0</td>\n",
       "      <td>555.0</td>\n",
       "      <td>8.0</td>\n",
       "      <td>182989.0</td>\n",
       "    </tr>\n",
       "    <tr>\n",
       "      <th>9</th>\n",
       "      <td>19.0</td>\n",
       "      <td>12191.0</td>\n",
       "      <td>5248.0</td>\n",
       "      <td>1346.0</td>\n",
       "      <td>12.0</td>\n",
       "      <td>460105.0</td>\n",
       "    </tr>\n",
       "    <tr>\n",
       "      <th>15</th>\n",
       "      <td>NaN</td>\n",
       "      <td>1719.0</td>\n",
       "      <td>622.0</td>\n",
       "      <td>200.0</td>\n",
       "      <td>NaN</td>\n",
       "      <td>54669.0</td>\n",
       "    </tr>\n",
       "    <tr>\n",
       "      <th>18</th>\n",
       "      <td>NaN</td>\n",
       "      <td>5465.0</td>\n",
       "      <td>2066.0</td>\n",
       "      <td>729.0</td>\n",
       "      <td>1.0</td>\n",
       "      <td>195812.0</td>\n",
       "    </tr>\n",
       "    <tr>\n",
       "      <th>30</th>\n",
       "      <td>3.0</td>\n",
       "      <td>4738.0</td>\n",
       "      <td>2867.0</td>\n",
       "      <td>593.0</td>\n",
       "      <td>4.0</td>\n",
       "      <td>245275.0</td>\n",
       "    </tr>\n",
       "  </tbody>\n",
       "</table>\n",
       "</div>"
      ],
      "text/plain": [
       "    possessive-endings  personal  possessive  wh-non-possessive  \\\n",
       "6                  NaN    5087.0      2704.0              555.0   \n",
       "9                 19.0   12191.0      5248.0             1346.0   \n",
       "15                 NaN    1719.0       622.0              200.0   \n",
       "18                 NaN    5465.0      2066.0              729.0   \n",
       "30                 3.0    4738.0      2867.0              593.0   \n",
       "\n",
       "    wh-possessive       sum  \n",
       "6             8.0  182989.0  \n",
       "9            12.0  460105.0  \n",
       "15            NaN   54669.0  \n",
       "18            1.0  195812.0  \n",
       "30            4.0  245275.0  "
      ]
     },
     "execution_count": 10,
     "metadata": {},
     "output_type": "execute_result"
    }
   ],
   "source": [
    "controls_selected_POS=controlsPOS[pronouns_possessives]\n",
    "controls_selected_POS=controls_selected_POS.rename(columns={'POS' : 'possessive-endings', 'PRP': 'personal', 'PRP$': 'possessive', 'WP': 'wh-non-possessive', 'WP$': 'wh-possessive'})\n",
    "controls_selected_POS.head()"
   ]
  },
  {
   "cell_type": "markdown",
   "metadata": {},
   "source": [
    "Let's create percentage-of-total columns.  Note that where NaN exists, there should be a count of 0, so let's fix that now, as well."
   ]
  },
  {
   "cell_type": "code",
   "execution_count": 11,
   "metadata": {},
   "outputs": [
    {
     "data": {
      "text/html": [
       "<div>\n",
       "<style>\n",
       "    .dataframe thead tr:only-child th {\n",
       "        text-align: right;\n",
       "    }\n",
       "\n",
       "    .dataframe thead th {\n",
       "        text-align: left;\n",
       "    }\n",
       "\n",
       "    .dataframe tbody tr th {\n",
       "        vertical-align: top;\n",
       "    }\n",
       "</style>\n",
       "<table border=\"1\" class=\"dataframe\">\n",
       "  <thead>\n",
       "    <tr style=\"text-align: right;\">\n",
       "      <th></th>\n",
       "      <th>possessive-endings</th>\n",
       "      <th>personal</th>\n",
       "      <th>possessive</th>\n",
       "      <th>wh-non-possessive</th>\n",
       "      <th>wh-possessive</th>\n",
       "      <th>sum</th>\n",
       "      <th>possessive-endings_pct</th>\n",
       "      <th>personal_pct</th>\n",
       "      <th>possessive_pct</th>\n",
       "      <th>wh-non-possessive_pct</th>\n",
       "      <th>wh-possessive_pct</th>\n",
       "      <th>sum_pct</th>\n",
       "    </tr>\n",
       "  </thead>\n",
       "  <tbody>\n",
       "    <tr>\n",
       "      <th>0</th>\n",
       "      <td>10.0</td>\n",
       "      <td>17928.0</td>\n",
       "      <td>6795.0</td>\n",
       "      <td>2336.0</td>\n",
       "      <td>36.0</td>\n",
       "      <td>716455.0</td>\n",
       "      <td>0.000014</td>\n",
       "      <td>0.025023</td>\n",
       "      <td>0.009484</td>\n",
       "      <td>0.003260</td>\n",
       "      <td>0.000050</td>\n",
       "      <td>1.0</td>\n",
       "    </tr>\n",
       "    <tr>\n",
       "      <th>1</th>\n",
       "      <td>0.0</td>\n",
       "      <td>768.0</td>\n",
       "      <td>358.0</td>\n",
       "      <td>113.0</td>\n",
       "      <td>1.0</td>\n",
       "      <td>31889.0</td>\n",
       "      <td>0.000000</td>\n",
       "      <td>0.024084</td>\n",
       "      <td>0.011226</td>\n",
       "      <td>0.003544</td>\n",
       "      <td>0.000031</td>\n",
       "      <td>1.0</td>\n",
       "    </tr>\n",
       "    <tr>\n",
       "      <th>2</th>\n",
       "      <td>0.0</td>\n",
       "      <td>969.0</td>\n",
       "      <td>521.0</td>\n",
       "      <td>77.0</td>\n",
       "      <td>0.0</td>\n",
       "      <td>37167.0</td>\n",
       "      <td>0.000000</td>\n",
       "      <td>0.026072</td>\n",
       "      <td>0.014018</td>\n",
       "      <td>0.002072</td>\n",
       "      <td>0.000000</td>\n",
       "      <td>1.0</td>\n",
       "    </tr>\n",
       "    <tr>\n",
       "      <th>3</th>\n",
       "      <td>0.0</td>\n",
       "      <td>4036.0</td>\n",
       "      <td>2355.0</td>\n",
       "      <td>654.0</td>\n",
       "      <td>5.0</td>\n",
       "      <td>207147.0</td>\n",
       "      <td>0.000000</td>\n",
       "      <td>0.019484</td>\n",
       "      <td>0.011369</td>\n",
       "      <td>0.003157</td>\n",
       "      <td>0.000024</td>\n",
       "      <td>1.0</td>\n",
       "    </tr>\n",
       "    <tr>\n",
       "      <th>4</th>\n",
       "      <td>0.0</td>\n",
       "      <td>1245.0</td>\n",
       "      <td>521.0</td>\n",
       "      <td>223.0</td>\n",
       "      <td>8.0</td>\n",
       "      <td>56994.0</td>\n",
       "      <td>0.000000</td>\n",
       "      <td>0.021844</td>\n",
       "      <td>0.009141</td>\n",
       "      <td>0.003913</td>\n",
       "      <td>0.000140</td>\n",
       "      <td>1.0</td>\n",
       "    </tr>\n",
       "  </tbody>\n",
       "</table>\n",
       "</div>"
      ],
      "text/plain": [
       "   possessive-endings  personal  possessive  wh-non-possessive  wh-possessive  \\\n",
       "0                10.0   17928.0      6795.0             2336.0           36.0   \n",
       "1                 0.0     768.0       358.0              113.0            1.0   \n",
       "2                 0.0     969.0       521.0               77.0            0.0   \n",
       "3                 0.0    4036.0      2355.0              654.0            5.0   \n",
       "4                 0.0    1245.0       521.0              223.0            8.0   \n",
       "\n",
       "        sum  possessive-endings_pct  personal_pct  possessive_pct  \\\n",
       "0  716455.0                0.000014      0.025023        0.009484   \n",
       "1   31889.0                0.000000      0.024084        0.011226   \n",
       "2   37167.0                0.000000      0.026072        0.014018   \n",
       "3  207147.0                0.000000      0.019484        0.011369   \n",
       "4   56994.0                0.000000      0.021844        0.009141   \n",
       "\n",
       "   wh-non-possessive_pct  wh-possessive_pct  sum_pct  \n",
       "0               0.003260           0.000050      1.0  \n",
       "1               0.003544           0.000031      1.0  \n",
       "2               0.002072           0.000000      1.0  \n",
       "3               0.003157           0.000024      1.0  \n",
       "4               0.003913           0.000140      1.0  "
      ]
     },
     "execution_count": 11,
     "metadata": {},
     "output_type": "execute_result"
    }
   ],
   "source": [
    "asd_selected_POS = asd_selected_POS.join(asd_selected_POS.div(asd_selected_POS['sum'], axis=0), rsuffix='_pct').fillna(0)\n",
    "asd_selected_POS.head()"
   ]
  },
  {
   "cell_type": "code",
   "execution_count": 12,
   "metadata": {},
   "outputs": [
    {
     "data": {
      "text/html": [
       "<div>\n",
       "<style>\n",
       "    .dataframe thead tr:only-child th {\n",
       "        text-align: right;\n",
       "    }\n",
       "\n",
       "    .dataframe thead th {\n",
       "        text-align: left;\n",
       "    }\n",
       "\n",
       "    .dataframe tbody tr th {\n",
       "        vertical-align: top;\n",
       "    }\n",
       "</style>\n",
       "<table border=\"1\" class=\"dataframe\">\n",
       "  <thead>\n",
       "    <tr style=\"text-align: right;\">\n",
       "      <th></th>\n",
       "      <th>possessive-endings</th>\n",
       "      <th>personal</th>\n",
       "      <th>possessive</th>\n",
       "      <th>wh-non-possessive</th>\n",
       "      <th>wh-possessive</th>\n",
       "      <th>sum</th>\n",
       "      <th>possessive-endings_pct</th>\n",
       "      <th>personal_pct</th>\n",
       "      <th>possessive_pct</th>\n",
       "      <th>wh-non-possessive_pct</th>\n",
       "      <th>wh-possessive_pct</th>\n",
       "      <th>sum_pct</th>\n",
       "    </tr>\n",
       "  </thead>\n",
       "  <tbody>\n",
       "    <tr>\n",
       "      <th>6</th>\n",
       "      <td>0.0</td>\n",
       "      <td>5087.0</td>\n",
       "      <td>2704.0</td>\n",
       "      <td>555.0</td>\n",
       "      <td>8.0</td>\n",
       "      <td>182989.0</td>\n",
       "      <td>0.000000</td>\n",
       "      <td>0.027799</td>\n",
       "      <td>0.014777</td>\n",
       "      <td>0.003033</td>\n",
       "      <td>0.000044</td>\n",
       "      <td>1.0</td>\n",
       "    </tr>\n",
       "    <tr>\n",
       "      <th>9</th>\n",
       "      <td>19.0</td>\n",
       "      <td>12191.0</td>\n",
       "      <td>5248.0</td>\n",
       "      <td>1346.0</td>\n",
       "      <td>12.0</td>\n",
       "      <td>460105.0</td>\n",
       "      <td>0.000041</td>\n",
       "      <td>0.026496</td>\n",
       "      <td>0.011406</td>\n",
       "      <td>0.002925</td>\n",
       "      <td>0.000026</td>\n",
       "      <td>1.0</td>\n",
       "    </tr>\n",
       "    <tr>\n",
       "      <th>15</th>\n",
       "      <td>0.0</td>\n",
       "      <td>1719.0</td>\n",
       "      <td>622.0</td>\n",
       "      <td>200.0</td>\n",
       "      <td>0.0</td>\n",
       "      <td>54669.0</td>\n",
       "      <td>0.000000</td>\n",
       "      <td>0.031444</td>\n",
       "      <td>0.011378</td>\n",
       "      <td>0.003658</td>\n",
       "      <td>0.000000</td>\n",
       "      <td>1.0</td>\n",
       "    </tr>\n",
       "    <tr>\n",
       "      <th>18</th>\n",
       "      <td>0.0</td>\n",
       "      <td>5465.0</td>\n",
       "      <td>2066.0</td>\n",
       "      <td>729.0</td>\n",
       "      <td>1.0</td>\n",
       "      <td>195812.0</td>\n",
       "      <td>0.000000</td>\n",
       "      <td>0.027909</td>\n",
       "      <td>0.010551</td>\n",
       "      <td>0.003723</td>\n",
       "      <td>0.000005</td>\n",
       "      <td>1.0</td>\n",
       "    </tr>\n",
       "    <tr>\n",
       "      <th>30</th>\n",
       "      <td>3.0</td>\n",
       "      <td>4738.0</td>\n",
       "      <td>2867.0</td>\n",
       "      <td>593.0</td>\n",
       "      <td>4.0</td>\n",
       "      <td>245275.0</td>\n",
       "      <td>0.000012</td>\n",
       "      <td>0.019317</td>\n",
       "      <td>0.011689</td>\n",
       "      <td>0.002418</td>\n",
       "      <td>0.000016</td>\n",
       "      <td>1.0</td>\n",
       "    </tr>\n",
       "  </tbody>\n",
       "</table>\n",
       "</div>"
      ],
      "text/plain": [
       "    possessive-endings  personal  possessive  wh-non-possessive  \\\n",
       "6                  0.0    5087.0      2704.0              555.0   \n",
       "9                 19.0   12191.0      5248.0             1346.0   \n",
       "15                 0.0    1719.0       622.0              200.0   \n",
       "18                 0.0    5465.0      2066.0              729.0   \n",
       "30                 3.0    4738.0      2867.0              593.0   \n",
       "\n",
       "    wh-possessive       sum  possessive-endings_pct  personal_pct  \\\n",
       "6             8.0  182989.0                0.000000      0.027799   \n",
       "9            12.0  460105.0                0.000041      0.026496   \n",
       "15            0.0   54669.0                0.000000      0.031444   \n",
       "18            1.0  195812.0                0.000000      0.027909   \n",
       "30            4.0  245275.0                0.000012      0.019317   \n",
       "\n",
       "    possessive_pct  wh-non-possessive_pct  wh-possessive_pct  sum_pct  \n",
       "6         0.014777               0.003033           0.000044      1.0  \n",
       "9         0.011406               0.002925           0.000026      1.0  \n",
       "15        0.011378               0.003658           0.000000      1.0  \n",
       "18        0.010551               0.003723           0.000005      1.0  \n",
       "30        0.011689               0.002418           0.000016      1.0  "
      ]
     },
     "execution_count": 12,
     "metadata": {},
     "output_type": "execute_result"
    }
   ],
   "source": [
    "controls_selected_POS = controls_selected_POS.join(controls_selected_POS.div(controls_selected_POS['sum'], axis=0), rsuffix='_pct').fillna(0)\n",
    "controls_selected_POS.head()"
   ]
  },
  {
   "cell_type": "markdown",
   "metadata": {},
   "source": [
    "## Visualization and Statistical Tests of Differences\n",
    "\n",
    "Let's set up a function to calculate effect size, using Cohen's d."
   ]
  },
  {
   "cell_type": "code",
   "execution_count": 13,
   "metadata": {
    "collapsed": true
   },
   "outputs": [],
   "source": [
    "def effectSize(c0, c1):\n",
    "    cohens_d = (mean(c0) - mean(c1)) / (sqrt((stdev(c0) ** 2 + stdev(c1) ** 2) / 2))\n",
    "    return(cohens_d)"
   ]
  },
  {
   "cell_type": "markdown",
   "metadata": {},
   "source": [
    "### Personal Pronouns"
   ]
  },
  {
   "cell_type": "code",
   "execution_count": 14,
   "metadata": {},
   "outputs": [
    {
     "data": {
      "image/png": "[encoded data removed]",
      "text/plain": [
       "<matplotlib.figure.Figure at 0x108318400>"
      ]
     },
     "metadata": {},
     "output_type": "display_data"
    }
   ],
   "source": [
    "fig = plt.figure(figsize=(10,10))\n",
    "fig.suptitle('Personal Pronoun Usage', fontsize=30, fontweight='bold')\n",
    "\n",
    "ax = fig.add_subplot(111)\n",
    "ax.boxplot([asd_selected_POS[\"personal_pct\"],controls_selected_POS[\"personal_pct\"]], labels=[\"ASD Bloggers\", \"Control Bloggers\"])\n",
    "\n",
    "ax.set_xlabel('Blogger Type')\n",
    "ax.set_ylabel('Percent of Language')\n",
    "\n",
    "plt.show()"
   ]
  },
  {
   "cell_type": "markdown",
   "metadata": {},
   "source": [
    "It certainly seems as though there is a small difference, with ASD bloggers using more personal pronouns.  Is that the case, and is the difference statistically significant?"
   ]
  },
  {
   "cell_type": "code",
   "execution_count": 15,
   "metadata": {},
   "outputs": [
    {
     "name": "stdout",
     "output_type": "stream",
     "text": [
      "Mean Personal Pronoun Usage: ASD = 0.025364204124953948; Controls = 0.023842250912828253\n",
      "\n",
      "Autistic Bloggers use 6.38% more personal pronouns.\n",
      "\n",
      "Effect Size: 0.30477352078\n"
     ]
    }
   ],
   "source": [
    "pct_diff = (asd_selected_POS[\"personal_pct\"].mean()/controls_selected_POS[\"personal_pct\"].mean())*100-100\n",
    "\n",
    "print(\"Mean Personal Pronoun Usage: ASD = \" + \n",
    "      str(asd_selected_POS[\"personal_pct\"].mean()) +\n",
    "     \"; Controls = \" + str(controls_selected_POS[\"personal_pct\"].mean()) +\n",
    "     \"\\n\\n\" +\n",
    "     \"Autistic Bloggers use \" + str(round(pct_diff,2)) + \"% more personal pronouns.\\n\\n\" +\n",
    "     \"Effect Size: \" + str(effectSize(asd_selected_POS[\"personal_pct\"],controls_selected_POS[\"personal_pct\"])))"
   ]
  },
  {
   "cell_type": "code",
   "execution_count": 16,
   "metadata": {},
   "outputs": [
    {
     "data": {
      "text/plain": [
       "Ttest_indResult(statistic=1.6553439278825521, pvalue=0.10055780065042527)"
      ]
     },
     "execution_count": 16,
     "metadata": {},
     "output_type": "execute_result"
    }
   ],
   "source": [
    "ttest_ind(asd_selected_POS[\"personal_pct\"],controls_selected_POS[\"personal_pct\"])"
   ]
  },
  {
   "cell_type": "markdown",
   "metadata": {},
   "source": [
    "There is a small difference, but it does not rise to the level of significance.\n",
    "\n",
    "### Possessive Endings"
   ]
  },
  {
   "cell_type": "code",
   "execution_count": 17,
   "metadata": {},
   "outputs": [
    {
     "data": {
      "image/png": "[encoded data removed]",
      "text/plain": [
       "<matplotlib.figure.Figure at 0x108318550>"
      ]
     },
     "metadata": {},
     "output_type": "display_data"
    }
   ],
   "source": [
    "fig = plt.figure(figsize=(10,10))\n",
    "fig.suptitle('Possessive Endings Usage', fontsize=20, fontweight='bold')\n",
    "\n",
    "ax = fig.add_subplot(111)\n",
    "ax.boxplot([asd_selected_POS[\"possessive-endings_pct\"],controls_selected_POS[\"possessive-endings_pct\"]], labels=[\"ASD Bloggers\", \"Control Bloggers\"])\n",
    "\n",
    "ax.set_xlabel('Blogger Type')\n",
    "ax.set_ylabel('Percent of Language')\n",
    "\n",
    "plt.show()"
   ]
  },
  {
   "cell_type": "markdown",
   "metadata": {},
   "source": [
    "Well, we have some interesting ASD outliers in the possessive endings area.  Still, it seems like possessive endings useage is essentially a tie.  Is that the case?"
   ]
  },
  {
   "cell_type": "code",
   "execution_count": 18,
   "metadata": {},
   "outputs": [
    {
     "name": "stdout",
     "output_type": "stream",
     "text": [
      "Mean Possessive Endings Usage: ASD = 2.4599639234437474e-05; Controls = 1.2074618147830899e-05\n",
      "\n",
      "Autistic Bloggers use 103.73% more possessive endings.\n",
      "\n",
      "Effect Size: 0.168259766675\n"
     ]
    }
   ],
   "source": [
    "pct_diff = (asd_selected_POS[\"possessive-endings_pct\"].mean()/controls_selected_POS[\"possessive-endings_pct\"].mean())*100-100\n",
    "\n",
    "print(\"Mean Possessive Endings Usage: ASD = \" + \n",
    "      str(asd_selected_POS[\"possessive-endings_pct\"].mean()) +\n",
    "     \"; Controls = \" + str(controls_selected_POS[\"possessive-endings_pct\"].mean()) +\n",
    "     \"\\n\\n\" +\n",
    "     \"Autistic Bloggers use \" + str(round(pct_diff,2)) + \"% more possessive endings.\\n\\n\" +\n",
    "     \"Effect Size: \" + str(effectSize(asd_selected_POS[\"possessive-endings_pct\"],\n",
    "                                      controls_selected_POS[\"possessive-endings_pct\"])))"
   ]
  },
  {
   "cell_type": "code",
   "execution_count": 19,
   "metadata": {},
   "outputs": [
    {
     "data": {
      "text/plain": [
       "Ttest_indResult(statistic=0.91388445544615471, pvalue=0.3626732026082824)"
      ]
     },
     "execution_count": 19,
     "metadata": {},
     "output_type": "execute_result"
    }
   ],
   "source": [
    "ttest_ind(asd_selected_POS[\"possessive-endings_pct\"],controls_selected_POS[\"possessive-endings_pct\"])"
   ]
  },
  {
   "cell_type": "markdown",
   "metadata": {},
   "source": [
    "Yes, the difference is tiny (despite the proportional difference being large) and amounts to, statistically speaking, a tie.\n",
    "\n",
    "### Possessive Pronouns"
   ]
  },
  {
   "cell_type": "code",
   "execution_count": 20,
   "metadata": {},
   "outputs": [
    {
     "data": {
      "image/png": "[encoded data removed]",
      "text/plain": [
       "<matplotlib.figure.Figure at 0x1083040b8>"
      ]
     },
     "metadata": {},
     "output_type": "display_data"
    }
   ],
   "source": [
    "fig = plt.figure(figsize=(10,10))\n",
    "fig.suptitle('Possessive Pronoun Usage', fontsize=20, fontweight='bold')\n",
    "\n",
    "ax = fig.add_subplot(111)\n",
    "ax.boxplot([asd_selected_POS[\"possessive_pct\"],controls_selected_POS[\"possessive_pct\"]], labels=[\"ASD Bloggers\", \"Control Bloggers\"])\n",
    "\n",
    "ax.set_xlabel('Blogger Type')\n",
    "ax.set_ylabel('Percent of Language')\n",
    "\n",
    "plt.show()"
   ]
  },
  {
   "cell_type": "markdown",
   "metadata": {},
   "source": [
    "Here we see that controls use more possessive pronouns than autistic bloggers."
   ]
  },
  {
   "cell_type": "code",
   "execution_count": 21,
   "metadata": {},
   "outputs": [
    {
     "name": "stdout",
     "output_type": "stream",
     "text": [
      "Mean Possessive Pronoun Usage: ASD = 0.010100456085658877; Controls = 0.01156179921121444\n",
      "\n",
      "Autistic Bloggers use 12.64% fewer possessive endings.\n",
      "\n",
      "Effect Size: -0.503128822626\n"
     ]
    }
   ],
   "source": [
    "pct_diff = (asd_selected_POS[\"possessive_pct\"].mean()/controls_selected_POS[\"possessive_pct\"].mean())*100-100\n",
    "\n",
    "print(\"Mean Possessive Pronoun Usage: ASD = \" + \n",
    "      str(asd_selected_POS[\"possessive_pct\"].mean()) +\n",
    "     \"; Controls = \" + str(controls_selected_POS[\"possessive_pct\"].mean()) +\n",
    "     \"\\n\\n\" +\n",
    "     \"Autistic Bloggers use \" + str(round(pct_diff,2)*-1) + \"% fewer possessive endings.\\n\\n\" +\n",
    "     \"Effect Size: \" + str(effectSize(asd_selected_POS[\"possessive_pct\"],\n",
    "                                      controls_selected_POS[\"possessive_pct\"])))"
   ]
  },
  {
   "cell_type": "code",
   "execution_count": 22,
   "metadata": {},
   "outputs": [
    {
     "data": {
      "text/plain": [
       "Ttest_indResult(statistic=-2.7326889794933762, pvalue=0.0072656175104848274)"
      ]
     },
     "execution_count": 22,
     "metadata": {},
     "output_type": "execute_result"
    }
   ],
   "source": [
    "ttest_ind(asd_selected_POS[\"possessive_pct\"],controls_selected_POS[\"possessive_pct\"])"
   ]
  },
  {
   "cell_type": "markdown",
   "metadata": {},
   "source": [
    "Here we have a clear finding: Autistic bloggers use 12.4% fewer possessive pronouns than control bloggers, at a p value of 0.0083. This is a moderate effect size.\n",
    "\n",
    "### Wh Pronouns (Non-Possessive)"
   ]
  },
  {
   "cell_type": "code",
   "execution_count": 23,
   "metadata": {},
   "outputs": [
    {
     "data": {
      "image/png": "[encoded data removed]",
      "text/plain": [
       "<matplotlib.figure.Figure at 0x1083184a8>"
      ]
     },
     "metadata": {},
     "output_type": "display_data"
    }
   ],
   "source": [
    "fig = plt.figure(figsize=(10,10))\n",
    "fig.suptitle('Wh- Non-Possessive Pronoun Usage', fontsize=20, fontweight='bold')\n",
    "\n",
    "ax = fig.add_subplot(111)\n",
    "ax.boxplot([asd_selected_POS[\"wh-non-possessive_pct\"],controls_selected_POS[\"wh-non-possessive_pct\"]], labels=[\"ASD Bloggers\", \"Control Bloggers\"])\n",
    "\n",
    "ax.set_xlabel('Blogger Type')\n",
    "ax.set_ylabel('Percent of Language')\n",
    "\n",
    "plt.show()"
   ]
  },
  {
   "cell_type": "code",
   "execution_count": 24,
   "metadata": {},
   "outputs": [
    {
     "name": "stdout",
     "output_type": "stream",
     "text": [
      "Mean Wh- Non-Possessive Pronoun Usage: ASD = 0.00334118785970426; Controls = 0.0028718110321371247\n",
      "\n",
      "Autistic Bloggers use 16.34% more wh- non-possessive pronouns.\n",
      "\n",
      "Effect Size: 0.455227825799\n"
     ]
    }
   ],
   "source": [
    "pct_diff = (asd_selected_POS[\"wh-non-possessive_pct\"].mean()/controls_selected_POS[\"wh-non-possessive_pct\"].mean())*100-100\n",
    "\n",
    "\n",
    "print(\"Mean Wh- Non-Possessive Pronoun Usage: ASD = \" + \n",
    "      str(asd_selected_POS[\"wh-non-possessive_pct\"].mean()) +\n",
    "     \"; Controls = \" + str(controls_selected_POS[\"wh-non-possessive_pct\"].mean()) +\n",
    "     \"\\n\\n\" +\n",
    "     \"Autistic Bloggers use \" + str(round(pct_diff,2)) + \"% more wh- non-possessive pronouns.\\n\\n\" +\n",
    "     \"Effect Size: \" + str(effectSize(asd_selected_POS[\"wh-non-possessive_pct\"],\n",
    "                                      controls_selected_POS[\"wh-non-possessive_pct\"])))"
   ]
  },
  {
   "cell_type": "code",
   "execution_count": 25,
   "metadata": {},
   "outputs": [
    {
     "data": {
      "text/plain": [
       "Ttest_indResult(statistic=2.4725199725678082, pvalue=0.014866713874248587)"
      ]
     },
     "execution_count": 25,
     "metadata": {},
     "output_type": "execute_result"
    }
   ],
   "source": [
    "ttest_ind(asd_selected_POS[\"wh-non-possessive_pct\"],controls_selected_POS[\"wh-non-possessive_pct\"])"
   ]
  },
  {
   "cell_type": "markdown",
   "metadata": {},
   "source": [
    "Here we find that autistic bloggers use 16.63% more wh- non-possessive pronouns than control bloggers, at a p value of 0.0134.  This is a small to moderate effect size."
   ]
  },
  {
   "cell_type": "code",
   "execution_count": 26,
   "metadata": {},
   "outputs": [
    {
     "data": {
      "image/png": "[encoded data removed]",
      "text/plain": [
       "<matplotlib.figure.Figure at 0x10d797518>"
      ]
     },
     "metadata": {},
     "output_type": "display_data"
    }
   ],
   "source": [
    "fig = plt.figure(figsize=(10,10))\n",
    "fig.suptitle('Wh- Possessive Pronoun Usage', fontsize=14, fontweight='bold')\n",
    "\n",
    "ax = fig.add_subplot(111)\n",
    "ax.boxplot([asd_selected_POS[\"wh-possessive_pct\"],controls_selected_POS[\"wh-possessive_pct\"]], labels=[\"ASD Bloggers\", \"Control Bloggers\"])\n",
    "\n",
    "ax.set_xlabel('Blogger Type')\n",
    "ax.set_ylabel('Percent of Language')\n",
    "\n",
    "plt.show()"
   ]
  },
  {
   "cell_type": "code",
   "execution_count": 27,
   "metadata": {},
   "outputs": [
    {
     "name": "stdout",
     "output_type": "stream",
     "text": [
      "Mean Wh- Possessive Pronoun Usage: ASD = 4.489469914100682e-05; Controls = 2.7304788434854945e-05\n",
      "\n",
      "Autistic Bloggers use 64.42% more Wh- possessive pronouns.\n",
      "\n",
      "Effect Size: 0.355609707407\n"
     ]
    }
   ],
   "source": [
    "pct_diff = (asd_selected_POS[\"wh-possessive_pct\"].mean()/controls_selected_POS[\"wh-possessive_pct\"].mean())*100-100\n",
    "\n",
    "\n",
    "print(\"Mean Wh- Possessive Pronoun Usage: ASD = \" + \n",
    "      str(asd_selected_POS[\"wh-possessive_pct\"].mean()) +\n",
    "     \"; Controls = \" + str(controls_selected_POS[\"wh-possessive_pct\"].mean()) +\n",
    "     \"\\n\\n\" +\n",
    "     \"Autistic Bloggers use \" + str(round(pct_diff,2)) + \"% more Wh- possessive pronouns.\\n\\n\" +\n",
    "     \"Effect Size: \" + str(effectSize(asd_selected_POS[\"wh-possessive_pct\"],controls_selected_POS[\"wh-possessive_pct\"])))"
   ]
  },
  {
   "cell_type": "code",
   "execution_count": 28,
   "metadata": {},
   "outputs": [
    {
     "data": {
      "text/plain": [
       "Ttest_indResult(statistic=1.9314550960513768, pvalue=0.055866337731304776)"
      ]
     },
     "execution_count": 28,
     "metadata": {},
     "output_type": "execute_result"
    }
   ],
   "source": [
    "ttest_ind(asd_selected_POS[\"wh-possessive_pct\"],controls_selected_POS[\"wh-possessive_pct\"])"
   ]
  },
  {
   "cell_type": "markdown",
   "metadata": {},
   "source": [
    "While suggestive (p = 0.055), this does not rise to the level of statistical significance."
   ]
  },
  {
   "cell_type": "markdown",
   "metadata": {},
   "source": [
    "## Look for Serendipitous Findings\n",
    "\n",
    "Serendipity, or the unplanned finding of interesting signal, is never unwelcome, but it should be stated as such in any findings, to prevent \"HARKing\"."
   ]
  },
  {
   "cell_type": "code",
   "execution_count": 29,
   "metadata": {
    "collapsed": true
   },
   "outputs": [],
   "source": [
    "asdPOS = asdPOS.drop('blog_name', axis=1)\n",
    "controlsPOS = controlsPOS.drop('blog_name', axis=1)"
   ]
  },
  {
   "cell_type": "code",
   "execution_count": 30,
   "metadata": {
    "collapsed": true
   },
   "outputs": [],
   "source": [
    "asdPOS = asdPOS.drop('word_count', axis=1)\n",
    "controlsPOS = controlsPOS.drop('word_count', axis=1)"
   ]
  },
  {
   "cell_type": "code",
   "execution_count": 31,
   "metadata": {
    "collapsed": true
   },
   "outputs": [],
   "source": [
    "asd_all_POS = asdPOS.join(asdPOS.div(asdPOS['sum'], axis=0), rsuffix='_pct').fillna(0)\n",
    "controls_all_POS = controlsPOS.join(controlsPOS.div(controlsPOS['sum'], axis=0), rsuffix='_pct').fillna(0)"
   ]
  },
  {
   "cell_type": "code",
   "execution_count": 32,
   "metadata": {},
   "outputs": [
    {
     "name": "stdout",
     "output_type": "stream",
     "text": [
      "#_pct p-value: 0.192865790019\n",
      "$_pct p-value: 0.0165840218545 SIGNIFICANT.  Effect Size: -0.447599859582\n",
      "''_pct p-value: 0.564246974723\n",
      "(_pct p-value: 0.86685644126\n",
      ")_pct p-value: 0.913364213795\n",
      ",_pct p-value: 0.240956095002\n",
      "._pct p-value: 0.544821008904\n",
      ":_pct p-value: 0.128433550854\n",
      "CC_pct p-value: 0.384562295239\n",
      "CD_pct p-value: 3.3686154346e-05 HIGHLY SIGNIFICANT.  Effect Size: -0.794534985017\n",
      "DT_pct p-value: 0.0173190676399 SIGNIFICANT.  Effect Size: -0.444548162173\n",
      "EX_pct p-value: 0.00150531697468 HIGHLY SIGNIFICANT.  Effect Size: 0.598569454461\n",
      "FW_pct p-value: 0.713807745503\n",
      "IN_pct p-value: 0.466883517237\n",
      "JJ_pct p-value: 0.00184889471085 HIGHLY SIGNIFICANT.  Effect Size: 0.586734409553\n",
      "JJR_pct p-value: 0.277537297385\n",
      "JJS_pct p-value: 0.237940142452\n",
      "LS_pct p-value: 0.565689836219\n",
      "MD_pct p-value: 0.127424499242\n",
      "NN_pct p-value: 0.00196994488132 HIGHLY SIGNIFICANT.  Effect Size: -0.583049697198\n",
      "NNP_pct p-value: 0.00122506099381 HIGHLY SIGNIFICANT.  Effect Size: 0.610267064932\n",
      "NNPS_pct p-value: 0.0308118280545 SIGNIFICANT.  Effect Size: 0.402505935927\n",
      "NNS_pct p-value: 0.714215953953\n",
      "PDT_pct p-value: 0.0839408356891\n",
      "POS_pct p-value: 0.362673202608\n",
      "PRP_pct p-value: 0.10055780065\n",
      "PRP$_pct p-value: 0.00726561751048 HIGHLY SIGNIFICANT.  Effect Size: -0.503128822626\n",
      "RB_pct p-value: 2.30625786933e-05 HIGHLY SIGNIFICANT.  Effect Size: 0.812302970384\n",
      "RBR_pct p-value: 0.00996005492608 HIGHLY SIGNIFICANT.  Effect Size: 0.482441008099\n",
      "RBS_pct p-value: 0.0902026984713\n",
      "RP_pct p-value: 0.111428756413\n",
      "SYM_pct p-value: 0.32467519062\n",
      "TO_pct p-value: 0.613627619326\n",
      "UH_pct p-value: 9.7072007431e-07 HIGHLY SIGNIFICANT.  Effect Size: 0.952613420024\n",
      "VB_pct p-value: 0.495712408999\n",
      "VBD_pct p-value: 0.833964521365\n",
      "VBG_pct p-value: 0.501385655943\n",
      "VBN_pct p-value: 0.608848355238\n",
      "VBP_pct p-value: 4.13140201588e-05 HIGHLY SIGNIFICANT.  Effect Size: 0.784857111842\n",
      "VBZ_pct p-value: 0.255162897343\n",
      "WDT_pct p-value: 0.352113830257\n",
      "WP_pct p-value: 0.0148667138742 SIGNIFICANT.  Effect Size: 0.455227825799\n",
      "WP$_pct p-value: 0.0558663377313\n",
      "WRB_pct p-value: 0.00355393468018 HIGHLY SIGNIFICANT.  Effect Size: 0.547941399355\n",
      "``_pct p-value: 0.136921387265\n",
      "sum_pct p-value: nan\n"
     ]
    },
    {
     "name": "stderr",
     "output_type": "stream",
     "text": [
      "/Users/paytonk/anaconda3/lib/python3.6/site-packages/ipykernel_launcher.py:2: RuntimeWarning: invalid value encountered in double_scalars\n",
      "  \n"
     ]
    }
   ],
   "source": [
    "for col in list(asd_all_POS):\n",
    "    significant = \"\"\n",
    "    if col.find(\"_pct\") >= 1:\n",
    "        ttest = ttest_ind(asd_all_POS[col],controls_all_POS[col])\n",
    "        es = effectSize(asd_all_POS[col],controls_all_POS[col])\n",
    "        if ttest.pvalue < 0.05:\n",
    "            significant = \" SIGNIFICANT.  Effect Size: \" + str(es)\n",
    "        if ttest.pvalue < 0.01:\n",
    "            significant = \" HIGHLY SIGNIFICANT.  Effect Size: \" + str(es)\n",
    "        print(col + \" p-value: \" + str(ttest.pvalue) + significant)\n",
    "        \n",
    "        "
   ]
  },
  {
   "cell_type": "markdown",
   "metadata": {},
   "source": [
    "We have a number of serendipitous findings.  In addition to the parts of speech that were our focus, we also note that there are significant differences in other parts of speech:\n",
    "\n",
    "* $: Literal dollar sign\n",
    "* CD: Cardinal number\n",
    "* DT: Determiner\n",
    "* EX: Existential \"there\"\n",
    "* JJ: Adjectives\n",
    "* NN: Noun, singular or mass\n",
    "* NNP: Proper noun, singular\n",
    "* NNPS: Proper noun, plural\n",
    "* RB: Adverb\n",
    "* RBR: Adverb, comparative\n",
    "* UH: Interjection\n",
    "* VBP: Verb, non-3rd person singular present\n",
    "* WRB: Wh-adverb\n",
    "\n",
    "Recalling that a p value of 0.05 means that in a random process, one out of twenty cases will meet significance, we can't be sure that we have true signal on all of these, but some of them are highly significant with large effect sizes.  While numbers, dollar signs, and interjections are highly specific and could be easily skewed by a few bloggers with special interests or communication styles, there are other parts of speech that merit further study.  Adverbs in particular have a large effect size at high levels of significance."
   ]
  }
 ],
 "metadata": {
  "kernelspec": {
   "display_name": "Python 3",
   "language": "python",
   "name": "python3"
  },
  "language_info": {
   "codemirror_mode": {
    "name": "ipython",
    "version": 3
   },
   "file_extension": ".py",
   "mimetype": "text/x-python",
   "name": "python",
   "nbconvert_exporter": "python",
   "pygments_lexer": "ipython3",
   "version": "3.6.3"
  }
 },
 "nbformat": 4,
 "nbformat_minor": 2
}
