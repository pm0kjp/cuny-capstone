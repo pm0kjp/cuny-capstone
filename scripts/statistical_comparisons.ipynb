{
 "cells": [
  {
   "cell_type": "markdown",
   "metadata": {},
   "source": [
    "## Obtain Part of Speech Data"
   ]
  },
  {
   "cell_type": "code",
   "execution_count": 1,
   "metadata": {},
   "outputs": [],
   "source": [
    "import pandas as pd\n",
    "from scipy.stats import ttest_ind\n",
    "import matplotlib.pyplot as plt\n",
    "%matplotlib inline\n",
    "plt.rcParams.update({'font.size': 18})\n"
   ]
  },
  {
   "cell_type": "code",
   "execution_count": 2,
   "metadata": {
    "collapsed": true
   },
   "outputs": [],
   "source": [
    "asdPOS = pd.read_csv(\"../confidential/ASD_POS_stats.csv\")\n",
    "controlsPOS = pd.read_csv(\"../confidential/controls_POS_stats.csv\")"
   ]
  },
  {
   "cell_type": "markdown",
   "metadata": {},
   "source": [
    "Eliminate the controls that were not matched with ASD blogs.  We oversampled controls, so now let's trim to just the pairwise matched control blogs."
   ]
  },
  {
   "cell_type": "code",
   "execution_count": 3,
   "metadata": {
    "collapsed": true
   },
   "outputs": [],
   "source": [
    "matched_to_asd = pd.read_csv(\"../confidential/controls_matching.csv\")\n",
    "matched_to_asd = matched_to_asd.loc[matched_to_asd['matched_with'] >= 0]"
   ]
  },
  {
   "cell_type": "code",
   "execution_count": 4,
   "metadata": {
    "collapsed": true
   },
   "outputs": [],
   "source": [
    "controlsPOS = controlsPOS.loc[controlsPOS['blog_name'].isin(matched_to_asd['blog'])]"
   ]
  },
  {
   "cell_type": "code",
   "execution_count": 5,
   "metadata": {},
   "outputs": [
    {
     "data": {
      "text/plain": [
       "3941564"
      ]
     },
     "execution_count": 5,
     "metadata": {},
     "output_type": "execute_result"
    }
   ],
   "source": [
    "controlsPOS['word_count'].sum()"
   ]
  },
  {
   "cell_type": "code",
   "execution_count": 6,
   "metadata": {},
   "outputs": [
    {
     "data": {
      "text/plain": [
       "3856577"
      ]
     },
     "execution_count": 6,
     "metadata": {},
     "output_type": "execute_result"
    }
   ],
   "source": [
    "asdPOS['word_count'].sum()"
   ]
  },
  {
   "cell_type": "markdown",
   "metadata": {},
   "source": [
    "## Calculate Proportions\n",
    "\n",
    "We'll want to have the sum of all parts of speech to see proportions."
   ]
  },
  {
   "cell_type": "code",
   "execution_count": 7,
   "metadata": {
    "collapsed": true
   },
   "outputs": [],
   "source": [
    "asdPOS['sum']=asdPOS.sum(axis=1)\n",
    "asdPOS = asdPOS[asdPOS[\"sum\"] != 0]\n",
    "\n",
    "controlsPOS['sum']=controlsPOS.sum(axis=1)\n",
    "controlsPOS = controlsPOS[controlsPOS[\"sum\"] != 0]"
   ]
  },
  {
   "cell_type": "markdown",
   "metadata": {},
   "source": [
    "We're interested particularly in pronouns and possessives: \n",
    "\n",
    "* personal pronouns (*he*, *I*) are represented by PRP\n",
    "* possessive pronouns (*my*, *yours*) by PRP\\$\n",
    "* possessive endings (*Bob's*, *Akil's*, *brother's*) by POS\n",
    "* wh-type pronouns (*who*, *whom*) by WP\n",
    "* wh-type posessive pronouns (*whose*) by WP\\$"
   ]
  },
  {
   "cell_type": "code",
   "execution_count": 8,
   "metadata": {
    "collapsed": true
   },
   "outputs": [],
   "source": [
    "pronouns_pos = [\"POS\", \"PRP\", \"PRP$\", \"WP\", \"WP$\",\"sum\"]"
   ]
  },
  {
   "cell_type": "markdown",
   "metadata": {},
   "source": [
    "Let's peek at what our POS data frames look like. Because the dollar sign causes problems in rendering Jupyter notebooks in GitHub, we'll replace it before proceeding."
   ]
  },
  {
   "cell_type": "code",
   "execution_count": 9,
   "metadata": {},
   "outputs": [
    {
     "data": {
      "text/html": [
       "<div>\n",
       "<style>\n",
       "    .dataframe thead tr:only-child th {\n",
       "        text-align: right;\n",
       "    }\n",
       "\n",
       "    .dataframe thead th {\n",
       "        text-align: left;\n",
       "    }\n",
       "\n",
       "    .dataframe tbody tr th {\n",
       "        vertical-align: top;\n",
       "    }\n",
       "</style>\n",
       "<table border=\"1\" class=\"dataframe\">\n",
       "  <thead>\n",
       "    <tr style=\"text-align: right;\">\n",
       "      <th></th>\n",
       "      <th>possessive-endings</th>\n",
       "      <th>personal</th>\n",
       "      <th>possessive</th>\n",
       "      <th>wh-non-possessive</th>\n",
       "      <th>wh-possessive</th>\n",
       "      <th>sum</th>\n",
       "    </tr>\n",
       "  </thead>\n",
       "  <tbody>\n",
       "    <tr>\n",
       "      <th>0</th>\n",
       "      <td>10.0</td>\n",
       "      <td>17928.0</td>\n",
       "      <td>6795.0</td>\n",
       "      <td>2336.0</td>\n",
       "      <td>36.0</td>\n",
       "      <td>716455.0</td>\n",
       "    </tr>\n",
       "    <tr>\n",
       "      <th>1</th>\n",
       "      <td>NaN</td>\n",
       "      <td>768.0</td>\n",
       "      <td>358.0</td>\n",
       "      <td>113.0</td>\n",
       "      <td>1.0</td>\n",
       "      <td>31890.0</td>\n",
       "    </tr>\n",
       "    <tr>\n",
       "      <th>2</th>\n",
       "      <td>NaN</td>\n",
       "      <td>969.0</td>\n",
       "      <td>521.0</td>\n",
       "      <td>77.0</td>\n",
       "      <td>NaN</td>\n",
       "      <td>37169.0</td>\n",
       "    </tr>\n",
       "    <tr>\n",
       "      <th>3</th>\n",
       "      <td>NaN</td>\n",
       "      <td>4036.0</td>\n",
       "      <td>2355.0</td>\n",
       "      <td>654.0</td>\n",
       "      <td>5.0</td>\n",
       "      <td>207151.0</td>\n",
       "    </tr>\n",
       "    <tr>\n",
       "      <th>4</th>\n",
       "      <td>NaN</td>\n",
       "      <td>1245.0</td>\n",
       "      <td>521.0</td>\n",
       "      <td>223.0</td>\n",
       "      <td>8.0</td>\n",
       "      <td>56999.0</td>\n",
       "    </tr>\n",
       "  </tbody>\n",
       "</table>\n",
       "</div>"
      ],
      "text/plain": [
       "   possessive-endings  personal  possessive  wh-non-possessive  wh-possessive  \\\n",
       "0                10.0   17928.0      6795.0             2336.0           36.0   \n",
       "1                 NaN     768.0       358.0              113.0            1.0   \n",
       "2                 NaN     969.0       521.0               77.0            NaN   \n",
       "3                 NaN    4036.0      2355.0              654.0            5.0   \n",
       "4                 NaN    1245.0       521.0              223.0            8.0   \n",
       "\n",
       "        sum  \n",
       "0  716455.0  \n",
       "1   31890.0  \n",
       "2   37169.0  \n",
       "3  207151.0  \n",
       "4   56999.0  "
      ]
     },
     "execution_count": 9,
     "metadata": {},
     "output_type": "execute_result"
    }
   ],
   "source": [
    "asdPOS=asdPOS[pronouns_pos]\n",
    "asdPOS=asdPOS.rename(columns={'POS' : 'possessive-endings','PRP': 'personal', 'PRP$': 'possessive', 'WP': 'wh-non-possessive', 'WP$': 'wh-possessive'})\n",
    "asdPOS.head()"
   ]
  },
  {
   "cell_type": "code",
   "execution_count": 10,
   "metadata": {},
   "outputs": [
    {
     "data": {
      "text/html": [
       "<div>\n",
       "<style>\n",
       "    .dataframe thead tr:only-child th {\n",
       "        text-align: right;\n",
       "    }\n",
       "\n",
       "    .dataframe thead th {\n",
       "        text-align: left;\n",
       "    }\n",
       "\n",
       "    .dataframe tbody tr th {\n",
       "        vertical-align: top;\n",
       "    }\n",
       "</style>\n",
       "<table border=\"1\" class=\"dataframe\">\n",
       "  <thead>\n",
       "    <tr style=\"text-align: right;\">\n",
       "      <th></th>\n",
       "      <th>possessive-endings</th>\n",
       "      <th>personal</th>\n",
       "      <th>possessive</th>\n",
       "      <th>wh-non-possessive</th>\n",
       "      <th>wh-possessive</th>\n",
       "      <th>sum</th>\n",
       "    </tr>\n",
       "  </thead>\n",
       "  <tbody>\n",
       "    <tr>\n",
       "      <th>6</th>\n",
       "      <td>NaN</td>\n",
       "      <td>5087.0</td>\n",
       "      <td>2704.0</td>\n",
       "      <td>555.0</td>\n",
       "      <td>8.0</td>\n",
       "      <td>182996.0</td>\n",
       "    </tr>\n",
       "    <tr>\n",
       "      <th>9</th>\n",
       "      <td>19.0</td>\n",
       "      <td>12191.0</td>\n",
       "      <td>5248.0</td>\n",
       "      <td>1346.0</td>\n",
       "      <td>12.0</td>\n",
       "      <td>460115.0</td>\n",
       "    </tr>\n",
       "    <tr>\n",
       "      <th>15</th>\n",
       "      <td>NaN</td>\n",
       "      <td>1719.0</td>\n",
       "      <td>622.0</td>\n",
       "      <td>200.0</td>\n",
       "      <td>NaN</td>\n",
       "      <td>54685.0</td>\n",
       "    </tr>\n",
       "    <tr>\n",
       "      <th>18</th>\n",
       "      <td>NaN</td>\n",
       "      <td>5465.0</td>\n",
       "      <td>2066.0</td>\n",
       "      <td>729.0</td>\n",
       "      <td>1.0</td>\n",
       "      <td>195831.0</td>\n",
       "    </tr>\n",
       "    <tr>\n",
       "      <th>30</th>\n",
       "      <td>3.0</td>\n",
       "      <td>4738.0</td>\n",
       "      <td>2867.0</td>\n",
       "      <td>593.0</td>\n",
       "      <td>4.0</td>\n",
       "      <td>245306.0</td>\n",
       "    </tr>\n",
       "  </tbody>\n",
       "</table>\n",
       "</div>"
      ],
      "text/plain": [
       "    possessive-endings  personal  possessive  wh-non-possessive  \\\n",
       "6                  NaN    5087.0      2704.0              555.0   \n",
       "9                 19.0   12191.0      5248.0             1346.0   \n",
       "15                 NaN    1719.0       622.0              200.0   \n",
       "18                 NaN    5465.0      2066.0              729.0   \n",
       "30                 3.0    4738.0      2867.0              593.0   \n",
       "\n",
       "    wh-possessive       sum  \n",
       "6             8.0  182996.0  \n",
       "9            12.0  460115.0  \n",
       "15            NaN   54685.0  \n",
       "18            1.0  195831.0  \n",
       "30            4.0  245306.0  "
      ]
     },
     "execution_count": 10,
     "metadata": {},
     "output_type": "execute_result"
    }
   ],
   "source": [
    "controlsPOS=controlsPOS[pronouns_pos]\n",
    "controlsPOS=controlsPOS.rename(columns={'POS' : 'possessive-endings', 'PRP': 'personal', 'PRP$': 'possessive', 'WP': 'wh-non-possessive', 'WP$': 'wh-possessive'})\n",
    "controlsPOS.head()"
   ]
  },
  {
   "cell_type": "markdown",
   "metadata": {},
   "source": [
    "Let's create percentage-of-total columns.  Note that where NaN exists, there should be a count of 0, so let's fix that now, as well."
   ]
  },
  {
   "cell_type": "code",
   "execution_count": 11,
   "metadata": {},
   "outputs": [
    {
     "data": {
      "text/html": [
       "<div>\n",
       "<style>\n",
       "    .dataframe thead tr:only-child th {\n",
       "        text-align: right;\n",
       "    }\n",
       "\n",
       "    .dataframe thead th {\n",
       "        text-align: left;\n",
       "    }\n",
       "\n",
       "    .dataframe tbody tr th {\n",
       "        vertical-align: top;\n",
       "    }\n",
       "</style>\n",
       "<table border=\"1\" class=\"dataframe\">\n",
       "  <thead>\n",
       "    <tr style=\"text-align: right;\">\n",
       "      <th></th>\n",
       "      <th>possessive-endings</th>\n",
       "      <th>personal</th>\n",
       "      <th>possessive</th>\n",
       "      <th>wh-non-possessive</th>\n",
       "      <th>wh-possessive</th>\n",
       "      <th>sum</th>\n",
       "      <th>possessive-endings_pct</th>\n",
       "      <th>personal_pct</th>\n",
       "      <th>possessive_pct</th>\n",
       "      <th>wh-non-possessive_pct</th>\n",
       "      <th>wh-possessive_pct</th>\n",
       "      <th>sum_pct</th>\n",
       "    </tr>\n",
       "  </thead>\n",
       "  <tbody>\n",
       "    <tr>\n",
       "      <th>0</th>\n",
       "      <td>10.0</td>\n",
       "      <td>17928.0</td>\n",
       "      <td>6795.0</td>\n",
       "      <td>2336.0</td>\n",
       "      <td>36.0</td>\n",
       "      <td>716455.0</td>\n",
       "      <td>0.000014</td>\n",
       "      <td>0.025023</td>\n",
       "      <td>0.009484</td>\n",
       "      <td>0.003260</td>\n",
       "      <td>0.000050</td>\n",
       "      <td>1.0</td>\n",
       "    </tr>\n",
       "    <tr>\n",
       "      <th>1</th>\n",
       "      <td>0.0</td>\n",
       "      <td>768.0</td>\n",
       "      <td>358.0</td>\n",
       "      <td>113.0</td>\n",
       "      <td>1.0</td>\n",
       "      <td>31890.0</td>\n",
       "      <td>0.000000</td>\n",
       "      <td>0.024083</td>\n",
       "      <td>0.011226</td>\n",
       "      <td>0.003543</td>\n",
       "      <td>0.000031</td>\n",
       "      <td>1.0</td>\n",
       "    </tr>\n",
       "    <tr>\n",
       "      <th>2</th>\n",
       "      <td>0.0</td>\n",
       "      <td>969.0</td>\n",
       "      <td>521.0</td>\n",
       "      <td>77.0</td>\n",
       "      <td>0.0</td>\n",
       "      <td>37169.0</td>\n",
       "      <td>0.000000</td>\n",
       "      <td>0.026070</td>\n",
       "      <td>0.014017</td>\n",
       "      <td>0.002072</td>\n",
       "      <td>0.000000</td>\n",
       "      <td>1.0</td>\n",
       "    </tr>\n",
       "    <tr>\n",
       "      <th>3</th>\n",
       "      <td>0.0</td>\n",
       "      <td>4036.0</td>\n",
       "      <td>2355.0</td>\n",
       "      <td>654.0</td>\n",
       "      <td>5.0</td>\n",
       "      <td>207151.0</td>\n",
       "      <td>0.000000</td>\n",
       "      <td>0.019483</td>\n",
       "      <td>0.011369</td>\n",
       "      <td>0.003157</td>\n",
       "      <td>0.000024</td>\n",
       "      <td>1.0</td>\n",
       "    </tr>\n",
       "    <tr>\n",
       "      <th>4</th>\n",
       "      <td>0.0</td>\n",
       "      <td>1245.0</td>\n",
       "      <td>521.0</td>\n",
       "      <td>223.0</td>\n",
       "      <td>8.0</td>\n",
       "      <td>56999.0</td>\n",
       "      <td>0.000000</td>\n",
       "      <td>0.021842</td>\n",
       "      <td>0.009141</td>\n",
       "      <td>0.003912</td>\n",
       "      <td>0.000140</td>\n",
       "      <td>1.0</td>\n",
       "    </tr>\n",
       "  </tbody>\n",
       "</table>\n",
       "</div>"
      ],
      "text/plain": [
       "   possessive-endings  personal  possessive  wh-non-possessive  wh-possessive  \\\n",
       "0                10.0   17928.0      6795.0             2336.0           36.0   \n",
       "1                 0.0     768.0       358.0              113.0            1.0   \n",
       "2                 0.0     969.0       521.0               77.0            0.0   \n",
       "3                 0.0    4036.0      2355.0              654.0            5.0   \n",
       "4                 0.0    1245.0       521.0              223.0            8.0   \n",
       "\n",
       "        sum  possessive-endings_pct  personal_pct  possessive_pct  \\\n",
       "0  716455.0                0.000014      0.025023        0.009484   \n",
       "1   31890.0                0.000000      0.024083        0.011226   \n",
       "2   37169.0                0.000000      0.026070        0.014017   \n",
       "3  207151.0                0.000000      0.019483        0.011369   \n",
       "4   56999.0                0.000000      0.021842        0.009141   \n",
       "\n",
       "   wh-non-possessive_pct  wh-possessive_pct  sum_pct  \n",
       "0               0.003260           0.000050      1.0  \n",
       "1               0.003543           0.000031      1.0  \n",
       "2               0.002072           0.000000      1.0  \n",
       "3               0.003157           0.000024      1.0  \n",
       "4               0.003912           0.000140      1.0  "
      ]
     },
     "execution_count": 11,
     "metadata": {},
     "output_type": "execute_result"
    }
   ],
   "source": [
    "asdPOS = asdPOS.join(asdPOS.div(asdPOS['sum'], axis=0), rsuffix='_pct').fillna(0)\n",
    "asdPOS.head()"
   ]
  },
  {
   "cell_type": "code",
   "execution_count": 12,
   "metadata": {},
   "outputs": [
    {
     "data": {
      "text/html": [
       "<div>\n",
       "<style>\n",
       "    .dataframe thead tr:only-child th {\n",
       "        text-align: right;\n",
       "    }\n",
       "\n",
       "    .dataframe thead th {\n",
       "        text-align: left;\n",
       "    }\n",
       "\n",
       "    .dataframe tbody tr th {\n",
       "        vertical-align: top;\n",
       "    }\n",
       "</style>\n",
       "<table border=\"1\" class=\"dataframe\">\n",
       "  <thead>\n",
       "    <tr style=\"text-align: right;\">\n",
       "      <th></th>\n",
       "      <th>possessive-endings</th>\n",
       "      <th>personal</th>\n",
       "      <th>possessive</th>\n",
       "      <th>wh-non-possessive</th>\n",
       "      <th>wh-possessive</th>\n",
       "      <th>sum</th>\n",
       "      <th>possessive-endings_pct</th>\n",
       "      <th>personal_pct</th>\n",
       "      <th>possessive_pct</th>\n",
       "      <th>wh-non-possessive_pct</th>\n",
       "      <th>wh-possessive_pct</th>\n",
       "      <th>sum_pct</th>\n",
       "    </tr>\n",
       "  </thead>\n",
       "  <tbody>\n",
       "    <tr>\n",
       "      <th>6</th>\n",
       "      <td>0.0</td>\n",
       "      <td>5087.0</td>\n",
       "      <td>2704.0</td>\n",
       "      <td>555.0</td>\n",
       "      <td>8.0</td>\n",
       "      <td>182996.0</td>\n",
       "      <td>0.000000</td>\n",
       "      <td>0.027798</td>\n",
       "      <td>0.014776</td>\n",
       "      <td>0.003033</td>\n",
       "      <td>0.000044</td>\n",
       "      <td>1.0</td>\n",
       "    </tr>\n",
       "    <tr>\n",
       "      <th>9</th>\n",
       "      <td>19.0</td>\n",
       "      <td>12191.0</td>\n",
       "      <td>5248.0</td>\n",
       "      <td>1346.0</td>\n",
       "      <td>12.0</td>\n",
       "      <td>460115.0</td>\n",
       "      <td>0.000041</td>\n",
       "      <td>0.026496</td>\n",
       "      <td>0.011406</td>\n",
       "      <td>0.002925</td>\n",
       "      <td>0.000026</td>\n",
       "      <td>1.0</td>\n",
       "    </tr>\n",
       "    <tr>\n",
       "      <th>15</th>\n",
       "      <td>0.0</td>\n",
       "      <td>1719.0</td>\n",
       "      <td>622.0</td>\n",
       "      <td>200.0</td>\n",
       "      <td>0.0</td>\n",
       "      <td>54685.0</td>\n",
       "      <td>0.000000</td>\n",
       "      <td>0.031435</td>\n",
       "      <td>0.011374</td>\n",
       "      <td>0.003657</td>\n",
       "      <td>0.000000</td>\n",
       "      <td>1.0</td>\n",
       "    </tr>\n",
       "    <tr>\n",
       "      <th>18</th>\n",
       "      <td>0.0</td>\n",
       "      <td>5465.0</td>\n",
       "      <td>2066.0</td>\n",
       "      <td>729.0</td>\n",
       "      <td>1.0</td>\n",
       "      <td>195831.0</td>\n",
       "      <td>0.000000</td>\n",
       "      <td>0.027907</td>\n",
       "      <td>0.010550</td>\n",
       "      <td>0.003723</td>\n",
       "      <td>0.000005</td>\n",
       "      <td>1.0</td>\n",
       "    </tr>\n",
       "    <tr>\n",
       "      <th>30</th>\n",
       "      <td>3.0</td>\n",
       "      <td>4738.0</td>\n",
       "      <td>2867.0</td>\n",
       "      <td>593.0</td>\n",
       "      <td>4.0</td>\n",
       "      <td>245306.0</td>\n",
       "      <td>0.000012</td>\n",
       "      <td>0.019315</td>\n",
       "      <td>0.011687</td>\n",
       "      <td>0.002417</td>\n",
       "      <td>0.000016</td>\n",
       "      <td>1.0</td>\n",
       "    </tr>\n",
       "  </tbody>\n",
       "</table>\n",
       "</div>"
      ],
      "text/plain": [
       "    possessive-endings  personal  possessive  wh-non-possessive  \\\n",
       "6                  0.0    5087.0      2704.0              555.0   \n",
       "9                 19.0   12191.0      5248.0             1346.0   \n",
       "15                 0.0    1719.0       622.0              200.0   \n",
       "18                 0.0    5465.0      2066.0              729.0   \n",
       "30                 3.0    4738.0      2867.0              593.0   \n",
       "\n",
       "    wh-possessive       sum  possessive-endings_pct  personal_pct  \\\n",
       "6             8.0  182996.0                0.000000      0.027798   \n",
       "9            12.0  460115.0                0.000041      0.026496   \n",
       "15            0.0   54685.0                0.000000      0.031435   \n",
       "18            1.0  195831.0                0.000000      0.027907   \n",
       "30            4.0  245306.0                0.000012      0.019315   \n",
       "\n",
       "    possessive_pct  wh-non-possessive_pct  wh-possessive_pct  sum_pct  \n",
       "6         0.014776               0.003033           0.000044      1.0  \n",
       "9         0.011406               0.002925           0.000026      1.0  \n",
       "15        0.011374               0.003657           0.000000      1.0  \n",
       "18        0.010550               0.003723           0.000005      1.0  \n",
       "30        0.011687               0.002417           0.000016      1.0  "
      ]
     },
     "execution_count": 12,
     "metadata": {},
     "output_type": "execute_result"
    }
   ],
   "source": [
    "controlsPOS = controlsPOS.join(controlsPOS.div(controlsPOS['sum'], axis=0), rsuffix='_pct').fillna(0)\n",
    "controlsPOS.head()"
   ]
  },
  {
   "cell_type": "markdown",
   "metadata": {},
   "source": [
    "## Visualization and Statistical Tests of Differences\n",
    "\n",
    "### Personal Pronouns"
   ]
  },
  {
   "cell_type": "code",
   "execution_count": 13,
   "metadata": {},
   "outputs": [
    {
     "data": {
      "image/png": "[encoded data removed]",
      "text/plain": [
       "<matplotlib.figure.Figure at 0x110a11c18>"
      ]
     },
     "metadata": {},
     "output_type": "display_data"
    }
   ],
   "source": [
    "fig = plt.figure(figsize=(10,10))\n",
    "fig.suptitle('Personal Pronoun Usage', fontsize=30, fontweight='bold')\n",
    "\n",
    "ax = fig.add_subplot(111)\n",
    "ax.boxplot([asdPOS[\"personal_pct\"],controlsPOS[\"personal_pct\"]], labels=[\"ASD Bloggers\", \"Control Bloggers\"])\n",
    "\n",
    "ax.set_xlabel('Blogger Type')\n",
    "ax.set_ylabel('Percent of Language')\n",
    "\n",
    "plt.show()"
   ]
  },
  {
   "cell_type": "markdown",
   "metadata": {},
   "source": [
    "It certainly seems as though there is a small difference, with ASD bloggers using more personal pronouns.  Is that the case, and is the difference statistically significant?"
   ]
  },
  {
   "cell_type": "code",
   "execution_count": 14,
   "metadata": {},
   "outputs": [
    {
     "name": "stdout",
     "output_type": "stream",
     "text": [
      "Mean Personal Pronoun Usage: ASD = 0.025346359630721963; Controls = 0.0237652893877489\n",
      "\n",
      "Autistic Bloggers use 6.65% more personal pronouns.\n"
     ]
    }
   ],
   "source": [
    "pct_diff = (asdPOS[\"personal_pct\"].mean()/controlsPOS[\"personal_pct\"].mean())*100-100\n",
    "\n",
    "print(\"Mean Personal Pronoun Usage: ASD = \" + \n",
    "      str(asdPOS[\"personal_pct\"].mean()) +\n",
    "     \"; Controls = \" + str(controlsPOS[\"personal_pct\"].mean()) +\n",
    "     \"\\n\\n\" +\n",
    "     \"Autistic Bloggers use \" + str(round(pct_diff,2)) + \"% more personal pronouns.\")\n",
    "      "
   ]
  },
  {
   "cell_type": "code",
   "execution_count": 15,
   "metadata": {},
   "outputs": [
    {
     "data": {
      "text/plain": [
       "Ttest_indResult(statistic=1.7220332047482367, pvalue=0.087728876805519926)"
      ]
     },
     "execution_count": 15,
     "metadata": {},
     "output_type": "execute_result"
    }
   ],
   "source": [
    "ttest_ind(asdPOS[\"personal_pct\"],controlsPOS[\"personal_pct\"])"
   ]
  },
  {
   "cell_type": "markdown",
   "metadata": {},
   "source": [
    "There is a small difference, but it does not rise to the level of significance.\n",
    "\n",
    "### Possessive Endings"
   ]
  },
  {
   "cell_type": "code",
   "execution_count": 16,
   "metadata": {},
   "outputs": [
    {
     "data": {
      "image/png": "[encoded data removed]",
      "text/plain": [
       "<matplotlib.figure.Figure at 0x110a11780>"
      ]
     },
     "metadata": {},
     "output_type": "display_data"
    }
   ],
   "source": [
    "fig = plt.figure(figsize=(10,10))\n",
    "fig.suptitle('Possessive Endings Usage', fontsize=20, fontweight='bold')\n",
    "\n",
    "ax = fig.add_subplot(111)\n",
    "ax.boxplot([asdPOS[\"possessive-endings_pct\"],controlsPOS[\"possessive-endings_pct\"]], labels=[\"ASD Bloggers\", \"Control Bloggers\"])\n",
    "\n",
    "ax.set_xlabel('Blogger Type')\n",
    "ax.set_ylabel('Percent of Language')\n",
    "\n",
    "plt.show()"
   ]
  },
  {
   "cell_type": "markdown",
   "metadata": {},
   "source": [
    "Well, we have some interesting ASD outliers in the possessive endings area.  Still, it seems like possessive endings useage is essentially a tie.  Is that the case?"
   ]
  },
  {
   "cell_type": "code",
   "execution_count": 17,
   "metadata": {},
   "outputs": [
    {
     "name": "stdout",
     "output_type": "stream",
     "text": [
      "Mean Possessive Endings Usage: ASD = 2.458758773705427e-05; Controls = 1.2049271897962257e-05\n",
      "\n",
      "Autistic Bloggers use 104.06% more possessive endings.\n"
     ]
    }
   ],
   "source": [
    "pct_diff = (asdPOS[\"possessive-endings_pct\"].mean()/controlsPOS[\"possessive-endings_pct\"].mean())*100-100\n",
    "\n",
    "print(\"Mean Possessive Endings Usage: ASD = \" + \n",
    "      str(asdPOS[\"possessive-endings_pct\"].mean()) +\n",
    "     \"; Controls = \" + str(controlsPOS[\"possessive-endings_pct\"].mean()) +\n",
    "     \"\\n\\n\" +\n",
    "     \"Autistic Bloggers use \" + str(round(pct_diff,2)) + \"% more possessive endings.\")"
   ]
  },
  {
   "cell_type": "code",
   "execution_count": 18,
   "metadata": {},
   "outputs": [
    {
     "data": {
      "text/plain": [
       "Ttest_indResult(statistic=0.91556273236456542, pvalue=0.3617956606463073)"
      ]
     },
     "execution_count": 18,
     "metadata": {},
     "output_type": "execute_result"
    }
   ],
   "source": [
    "ttest_ind(asdPOS[\"possessive-endings_pct\"],controlsPOS[\"possessive-endings_pct\"])"
   ]
  },
  {
   "cell_type": "markdown",
   "metadata": {},
   "source": [
    "Yes, the difference is tiny (despite the proportional difference being large) and amounts to, statistically speaking, a tie.\n",
    "\n",
    "### Possessive Pronouns"
   ]
  },
  {
   "cell_type": "code",
   "execution_count": 19,
   "metadata": {},
   "outputs": [
    {
     "data": {
      "image/png": "[encoded data removed]",
      "text/plain": [
       "<matplotlib.figure.Figure at 0x1a165205f8>"
      ]
     },
     "metadata": {},
     "output_type": "display_data"
    }
   ],
   "source": [
    "fig = plt.figure(figsize=(10,10))\n",
    "fig.suptitle('Possessive Pronoun Usage', fontsize=20, fontweight='bold')\n",
    "\n",
    "ax = fig.add_subplot(111)\n",
    "ax.boxplot([asdPOS[\"possessive_pct\"],controlsPOS[\"possessive_pct\"]], labels=[\"ASD Bloggers\", \"Control Bloggers\"])\n",
    "\n",
    "ax.set_xlabel('Blogger Type')\n",
    "ax.set_ylabel('Percent of Language')\n",
    "\n",
    "plt.show()"
   ]
  },
  {
   "cell_type": "markdown",
   "metadata": {},
   "source": [
    "Here we see that controls use more possessive pronouns than autistic bloggers."
   ]
  },
  {
   "cell_type": "code",
   "execution_count": 20,
   "metadata": {},
   "outputs": [
    {
     "name": "stdout",
     "output_type": "stream",
     "text": [
      "Mean Possessive Pronoun Usage: ASD = 0.010093226798055148; Controls = 0.011521372136672588\n",
      "\n",
      "Autistic Bloggers use 12.4% fewer possessive endings.\n"
     ]
    }
   ],
   "source": [
    "pct_diff = (asdPOS[\"possessive_pct\"].mean()/controlsPOS[\"possessive_pct\"].mean())*100-100\n",
    "\n",
    "print(\"Mean Possessive Pronoun Usage: ASD = \" + \n",
    "      str(asdPOS[\"possessive_pct\"].mean()) +\n",
    "     \"; Controls = \" + str(controlsPOS[\"possessive_pct\"].mean()) +\n",
    "     \"\\n\\n\" +\n",
    "     \"Autistic Bloggers use \" + str(round(pct_diff,2)*-1) + \"% fewer possessive endings.\")"
   ]
  },
  {
   "cell_type": "code",
   "execution_count": 21,
   "metadata": {},
   "outputs": [
    {
     "data": {
      "text/plain": [
       "Ttest_indResult(statistic=-2.684834636838644, pvalue=0.0083197945090885718)"
      ]
     },
     "execution_count": 21,
     "metadata": {},
     "output_type": "execute_result"
    }
   ],
   "source": [
    "ttest_ind(asdPOS[\"possessive_pct\"],controlsPOS[\"possessive_pct\"])"
   ]
  },
  {
   "cell_type": "markdown",
   "metadata": {},
   "source": [
    "Here we have a clear finding: Autistic bloggers use 12.4% fewer possessive pronouns than control bloggers, at a p value of 0.0083.\n",
    "\n",
    "### Wh Pronouns (Non-Possessive)"
   ]
  },
  {
   "cell_type": "code",
   "execution_count": 22,
   "metadata": {},
   "outputs": [
    {
     "data": {
      "image/png": "[encoded data removed]",
      "text/plain": [
       "<matplotlib.figure.Figure at 0x1a16a93a58>"
      ]
     },
     "metadata": {},
     "output_type": "display_data"
    }
   ],
   "source": [
    "fig = plt.figure(figsize=(10,10))\n",
    "fig.suptitle('Wh- Non-Possessive Pronoun Usage', fontsize=20, fontweight='bold')\n",
    "\n",
    "ax = fig.add_subplot(111)\n",
    "ax.boxplot([asdPOS[\"wh-non-possessive_pct\"],controlsPOS[\"wh-non-possessive_pct\"]], labels=[\"ASD Bloggers\", \"Control Bloggers\"])\n",
    "\n",
    "ax.set_xlabel('Blogger Type')\n",
    "ax.set_ylabel('Percent of Language')\n",
    "\n",
    "plt.show()"
   ]
  },
  {
   "cell_type": "code",
   "execution_count": 23,
   "metadata": {},
   "outputs": [
    {
     "name": "stdout",
     "output_type": "stream",
     "text": [
      "Mean Wh- Non-Possessive Pronoun Usage: ASD = 0.0033390046669999744; Controls = 0.0028628147259934455\n",
      "\n",
      "Autistic Bloggers use 16.63% more wh- non-possessive pronouns.\n"
     ]
    }
   ],
   "source": [
    "pct_diff = (asdPOS[\"wh-non-possessive_pct\"].mean()/controlsPOS[\"wh-non-possessive_pct\"].mean())*100-100\n",
    "\n",
    "\n",
    "print(\"Mean Wh- Non-Possessive Pronoun Usage: ASD = \" + \n",
    "      str(asdPOS[\"wh-non-possessive_pct\"].mean()) +\n",
    "     \"; Controls = \" + str(controlsPOS[\"wh-non-possessive_pct\"].mean()) +\n",
    "     \"\\n\\n\" +\n",
    "     \"Autistic Bloggers use \" + str(round(pct_diff,2)) + \"% more wh- non-possessive pronouns.\")"
   ]
  },
  {
   "cell_type": "code",
   "execution_count": 24,
   "metadata": {},
   "outputs": [
    {
     "data": {
      "text/plain": [
       "Ttest_indResult(statistic=2.5108614080392049, pvalue=0.013420754989194256)"
      ]
     },
     "execution_count": 24,
     "metadata": {},
     "output_type": "execute_result"
    }
   ],
   "source": [
    "ttest_ind(asdPOS[\"wh-non-possessive_pct\"],controlsPOS[\"wh-non-possessive_pct\"])"
   ]
  },
  {
   "cell_type": "markdown",
   "metadata": {},
   "source": [
    "Here we find that autistic bloggers use 16.63% more wh- non-possessive pronouns than control bloggers, at a p value of 0.0134"
   ]
  },
  {
   "cell_type": "code",
   "execution_count": 25,
   "metadata": {},
   "outputs": [
    {
     "data": {
      "image/png": "[encoded data removed]",
      "text/plain": [
       "<matplotlib.figure.Figure at 0x1a16acbf98>"
      ]
     },
     "metadata": {},
     "output_type": "display_data"
    }
   ],
   "source": [
    "fig = plt.figure(figsize=(10,10))\n",
    "fig.suptitle('Wh- Possessive Pronoun Usage', fontsize=14, fontweight='bold')\n",
    "\n",
    "ax = fig.add_subplot(111)\n",
    "ax.boxplot([asdPOS[\"wh-possessive_pct\"],controlsPOS[\"wh-possessive_pct\"]], labels=[\"ASD Bloggers\", \"Control Bloggers\"])\n",
    "\n",
    "ax.set_xlabel('Blogger Type')\n",
    "ax.set_ylabel('Percent of Language')\n",
    "\n",
    "plt.show()"
   ]
  },
  {
   "cell_type": "code",
   "execution_count": 26,
   "metadata": {},
   "outputs": [
    {
     "name": "stdout",
     "output_type": "stream",
     "text": [
      "Mean Wh- Possessive Pronoun Usage: ASD = 4.4872546321540246e-05; Controls = 2.7222023091442554e-05\n",
      "\n",
      "Autistic Bloggers use 64.84% more Wh- possessive pronouns.\n"
     ]
    }
   ],
   "source": [
    "pct_diff = (asdPOS[\"wh-possessive_pct\"].mean()/controlsPOS[\"wh-possessive_pct\"].mean())*100-100\n",
    "\n",
    "\n",
    "print(\"Mean Wh- Possessive Pronoun Usage: ASD = \" + \n",
    "      str(asdPOS[\"wh-possessive_pct\"].mean()) +\n",
    "     \"; Controls = \" + str(controlsPOS[\"wh-possessive_pct\"].mean()) +\n",
    "     \"\\n\\n\" +\n",
    "     \"Autistic Bloggers use \" + str(round(pct_diff,2)) + \"% more Wh- possessive pronouns.\")"
   ]
  },
  {
   "cell_type": "code",
   "execution_count": 27,
   "metadata": {},
   "outputs": [
    {
     "data": {
      "text/plain": [
       "Ttest_indResult(statistic=1.942320766997002, pvalue=0.054522288955226414)"
      ]
     },
     "execution_count": 27,
     "metadata": {},
     "output_type": "execute_result"
    }
   ],
   "source": [
    "ttest_ind(asdPOS[\"wh-possessive_pct\"],controlsPOS[\"wh-possessive_pct\"])"
   ]
  },
  {
   "cell_type": "markdown",
   "metadata": {},
   "source": [
    "While suggestive (p = 0.055), this does not rise to the level of statistical significance."
   ]
  }
 ],
 "metadata": {
  "kernelspec": {
   "display_name": "Python 3",
   "language": "python",
   "name": "python3"
  },
  "language_info": {
   "codemirror_mode": {
    "name": "ipython",
    "version": 3
   },
   "file_extension": ".py",
   "mimetype": "text/x-python",
   "name": "python",
   "nbconvert_exporter": "python",
   "pygments_lexer": "ipython3",
   "version": "3.6.3"
  }
 },
 "nbformat": 4,
 "nbformat_minor": 2
}
