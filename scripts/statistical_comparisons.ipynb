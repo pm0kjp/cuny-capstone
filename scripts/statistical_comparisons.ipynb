{
 "cells": [
  {
   "cell_type": "code",
   "execution_count": 26,
   "metadata": {
    "collapsed": true
   },
   "outputs": [],
   "source": [
    "import pandas as pd\n",
    "import matplotlib.pyplot as plt\n",
    "%matplotlib inline  "
   ]
  },
  {
   "cell_type": "markdown",
   "metadata": {},
   "source": [
    "# Obtain POS Data"
   ]
  },
  {
   "cell_type": "code",
   "execution_count": 50,
   "metadata": {
    "collapsed": true
   },
   "outputs": [],
   "source": [
    "asdPOS = pd.read_csv(\"../confidential/ASD_POS_stats.csv\")\n",
    "controlsPOS = pd.read_csv(\"../confidential/controls_POS_stats.csv\")"
   ]
  },
  {
   "cell_type": "markdown",
   "metadata": {},
   "source": [
    "We'll want to have the sum of all parts of speech to see proportions."
   ]
  },
  {
   "cell_type": "code",
   "execution_count": 51,
   "metadata": {
    "collapsed": true
   },
   "outputs": [],
   "source": [
    "asdPOS['sum']=asdPOS.sum(axis=1)\n",
    "asdPOS = asdPOS[asdPOS[\"sum\"] != 0]\n",
    "\n",
    "controlsPOS['sum']=controlsPOS.sum(axis=1)\n",
    "controlsPOS = controlsPOS[controlsPOS[\"sum\"] != 0]"
   ]
  },
  {
   "cell_type": "markdown",
   "metadata": {},
   "source": [
    "We're interested particularly in pronouns: \n",
    "\n",
    "* personal pronouns (he, I) are represented by PRP\n",
    "* possessive pronouns (my, yours) by PRP\\$\n",
    "* wh-type pronouns (who, whom) by WP\n",
    "* wh-type posessive pronouns (whose) by WP\\$"
   ]
  },
  {
   "cell_type": "code",
   "execution_count": 52,
   "metadata": {
    "collapsed": true
   },
   "outputs": [],
   "source": [
    "pronouns = [\"POS\", \"PRP\", \"PRP$\", \"WP\", \"WP$\",\"sum\"]"
   ]
  },
  {
   "cell_type": "markdown",
   "metadata": {},
   "source": [
    "Let's peek at what our POS data frames look like. Because the dollar sign causes problems in rendering Jupyter notebooks in GitHub, we'll replace it before proceeding."
   ]
  },
  {
   "cell_type": "code",
   "execution_count": 53,
   "metadata": {},
   "outputs": [
    {
     "data": {
      "text/html": [
       "<div>\n",
       "<style>\n",
       "    .dataframe thead tr:only-child th {\n",
       "        text-align: right;\n",
       "    }\n",
       "\n",
       "    .dataframe thead th {\n",
       "        text-align: left;\n",
       "    }\n",
       "\n",
       "    .dataframe tbody tr th {\n",
       "        vertical-align: top;\n",
       "    }\n",
       "</style>\n",
       "<table border=\"1\" class=\"dataframe\">\n",
       "  <thead>\n",
       "    <tr style=\"text-align: right;\">\n",
       "      <th></th>\n",
       "      <th>possessive-endings</th>\n",
       "      <th>personal</th>\n",
       "      <th>possessive</th>\n",
       "      <th>wh-non-possessive</th>\n",
       "      <th>wh-possessive</th>\n",
       "      <th>sum</th>\n",
       "    </tr>\n",
       "  </thead>\n",
       "  <tbody>\n",
       "    <tr>\n",
       "      <th>0</th>\n",
       "      <td>10.0</td>\n",
       "      <td>17928.0</td>\n",
       "      <td>6795.0</td>\n",
       "      <td>2336.0</td>\n",
       "      <td>36.0</td>\n",
       "      <td>398494.0</td>\n",
       "    </tr>\n",
       "    <tr>\n",
       "      <th>1</th>\n",
       "      <td>NaN</td>\n",
       "      <td>768.0</td>\n",
       "      <td>358.0</td>\n",
       "      <td>113.0</td>\n",
       "      <td>1.0</td>\n",
       "      <td>17150.0</td>\n",
       "    </tr>\n",
       "    <tr>\n",
       "      <th>2</th>\n",
       "      <td>NaN</td>\n",
       "      <td>969.0</td>\n",
       "      <td>521.0</td>\n",
       "      <td>77.0</td>\n",
       "      <td>NaN</td>\n",
       "      <td>19598.0</td>\n",
       "    </tr>\n",
       "    <tr>\n",
       "      <th>3</th>\n",
       "      <td>NaN</td>\n",
       "      <td>76.0</td>\n",
       "      <td>40.0</td>\n",
       "      <td>1.0</td>\n",
       "      <td>NaN</td>\n",
       "      <td>1549.0</td>\n",
       "    </tr>\n",
       "    <tr>\n",
       "      <th>4</th>\n",
       "      <td>NaN</td>\n",
       "      <td>4036.0</td>\n",
       "      <td>2355.0</td>\n",
       "      <td>654.0</td>\n",
       "      <td>5.0</td>\n",
       "      <td>111169.0</td>\n",
       "    </tr>\n",
       "  </tbody>\n",
       "</table>\n",
       "</div>"
      ],
      "text/plain": [
       "   possessive-endings  personal  possessive  wh-non-possessive  wh-possessive  \\\n",
       "0                10.0   17928.0      6795.0             2336.0           36.0   \n",
       "1                 NaN     768.0       358.0              113.0            1.0   \n",
       "2                 NaN     969.0       521.0               77.0            NaN   \n",
       "3                 NaN      76.0        40.0                1.0            NaN   \n",
       "4                 NaN    4036.0      2355.0              654.0            5.0   \n",
       "\n",
       "        sum  \n",
       "0  398494.0  \n",
       "1   17150.0  \n",
       "2   19598.0  \n",
       "3    1549.0  \n",
       "4  111169.0  "
      ]
     },
     "execution_count": 53,
     "metadata": {},
     "output_type": "execute_result"
    }
   ],
   "source": [
    "asdPOS=asdPOS[pronouns]\n",
    "asdPOS=asdPOS.rename(columns={'POS' : 'possessive-endings','PRP': 'personal', 'PRP$': 'possessive', 'WP': 'wh-non-possessive', 'WP$': 'wh-possessive'})\n",
    "asdPOS.head()"
   ]
  },
  {
   "cell_type": "code",
   "execution_count": 54,
   "metadata": {},
   "outputs": [
    {
     "data": {
      "text/html": [
       "<div>\n",
       "<style>\n",
       "    .dataframe thead tr:only-child th {\n",
       "        text-align: right;\n",
       "    }\n",
       "\n",
       "    .dataframe thead th {\n",
       "        text-align: left;\n",
       "    }\n",
       "\n",
       "    .dataframe tbody tr th {\n",
       "        vertical-align: top;\n",
       "    }\n",
       "</style>\n",
       "<table border=\"1\" class=\"dataframe\">\n",
       "  <thead>\n",
       "    <tr style=\"text-align: right;\">\n",
       "      <th></th>\n",
       "      <th>possessive-endings</th>\n",
       "      <th>personal</th>\n",
       "      <th>possessive</th>\n",
       "      <th>wh-non-possessive</th>\n",
       "      <th>wh-possessive</th>\n",
       "      <th>sum</th>\n",
       "    </tr>\n",
       "  </thead>\n",
       "  <tbody>\n",
       "    <tr>\n",
       "      <th>0</th>\n",
       "      <td>NaN</td>\n",
       "      <td>19.0</td>\n",
       "      <td>20.0</td>\n",
       "      <td>1.0</td>\n",
       "      <td>1.0</td>\n",
       "      <td>2966.0</td>\n",
       "    </tr>\n",
       "    <tr>\n",
       "      <th>1</th>\n",
       "      <td>NaN</td>\n",
       "      <td>7559.0</td>\n",
       "      <td>3562.0</td>\n",
       "      <td>632.0</td>\n",
       "      <td>12.0</td>\n",
       "      <td>240264.0</td>\n",
       "    </tr>\n",
       "    <tr>\n",
       "      <th>2</th>\n",
       "      <td>2.0</td>\n",
       "      <td>8039.0</td>\n",
       "      <td>3050.0</td>\n",
       "      <td>838.0</td>\n",
       "      <td>11.0</td>\n",
       "      <td>213099.0</td>\n",
       "    </tr>\n",
       "    <tr>\n",
       "      <th>3</th>\n",
       "      <td>11.0</td>\n",
       "      <td>5229.0</td>\n",
       "      <td>1959.0</td>\n",
       "      <td>770.0</td>\n",
       "      <td>6.0</td>\n",
       "      <td>106342.0</td>\n",
       "    </tr>\n",
       "    <tr>\n",
       "      <th>4</th>\n",
       "      <td>9.0</td>\n",
       "      <td>1439.0</td>\n",
       "      <td>847.0</td>\n",
       "      <td>91.0</td>\n",
       "      <td>1.0</td>\n",
       "      <td>28770.0</td>\n",
       "    </tr>\n",
       "  </tbody>\n",
       "</table>\n",
       "</div>"
      ],
      "text/plain": [
       "   possessive-endings  personal  possessive  wh-non-possessive  wh-possessive  \\\n",
       "0                 NaN      19.0        20.0                1.0            1.0   \n",
       "1                 NaN    7559.0      3562.0              632.0           12.0   \n",
       "2                 2.0    8039.0      3050.0              838.0           11.0   \n",
       "3                11.0    5229.0      1959.0              770.0            6.0   \n",
       "4                 9.0    1439.0       847.0               91.0            1.0   \n",
       "\n",
       "        sum  \n",
       "0    2966.0  \n",
       "1  240264.0  \n",
       "2  213099.0  \n",
       "3  106342.0  \n",
       "4   28770.0  "
      ]
     },
     "execution_count": 54,
     "metadata": {},
     "output_type": "execute_result"
    }
   ],
   "source": [
    "controlsPOS=controlsPOS[pronouns]\n",
    "controlsPOS=controlsPOS.rename(columns={'POS' : 'possessive-endings', 'PRP': 'personal', 'PRP$': 'possessive', 'WP': 'wh-non-possessive', 'WP$': 'wh-possessive'})\n",
    "controlsPOS.head()"
   ]
  },
  {
   "cell_type": "markdown",
   "metadata": {},
   "source": [
    "Let's create percentage-of-total columns."
   ]
  },
  {
   "cell_type": "code",
   "execution_count": 55,
   "metadata": {},
   "outputs": [
    {
     "data": {
      "text/html": [
       "<div>\n",
       "<style>\n",
       "    .dataframe thead tr:only-child th {\n",
       "        text-align: right;\n",
       "    }\n",
       "\n",
       "    .dataframe thead th {\n",
       "        text-align: left;\n",
       "    }\n",
       "\n",
       "    .dataframe tbody tr th {\n",
       "        vertical-align: top;\n",
       "    }\n",
       "</style>\n",
       "<table border=\"1\" class=\"dataframe\">\n",
       "  <thead>\n",
       "    <tr style=\"text-align: right;\">\n",
       "      <th></th>\n",
       "      <th>possessive-endings</th>\n",
       "      <th>personal</th>\n",
       "      <th>possessive</th>\n",
       "      <th>wh-non-possessive</th>\n",
       "      <th>wh-possessive</th>\n",
       "      <th>sum</th>\n",
       "      <th>possessive-endings_pct</th>\n",
       "      <th>personal_pct</th>\n",
       "      <th>possessive_pct</th>\n",
       "      <th>wh-non-possessive_pct</th>\n",
       "      <th>wh-possessive_pct</th>\n",
       "      <th>sum_pct</th>\n",
       "    </tr>\n",
       "  </thead>\n",
       "  <tbody>\n",
       "    <tr>\n",
       "      <th>0</th>\n",
       "      <td>10.0</td>\n",
       "      <td>17928.0</td>\n",
       "      <td>6795.0</td>\n",
       "      <td>2336.0</td>\n",
       "      <td>36.0</td>\n",
       "      <td>398494.0</td>\n",
       "      <td>0.000025</td>\n",
       "      <td>0.044989</td>\n",
       "      <td>0.017052</td>\n",
       "      <td>0.005862</td>\n",
       "      <td>0.000090</td>\n",
       "      <td>1.0</td>\n",
       "    </tr>\n",
       "    <tr>\n",
       "      <th>1</th>\n",
       "      <td>NaN</td>\n",
       "      <td>768.0</td>\n",
       "      <td>358.0</td>\n",
       "      <td>113.0</td>\n",
       "      <td>1.0</td>\n",
       "      <td>17150.0</td>\n",
       "      <td>NaN</td>\n",
       "      <td>0.044781</td>\n",
       "      <td>0.020875</td>\n",
       "      <td>0.006589</td>\n",
       "      <td>0.000058</td>\n",
       "      <td>1.0</td>\n",
       "    </tr>\n",
       "    <tr>\n",
       "      <th>2</th>\n",
       "      <td>NaN</td>\n",
       "      <td>969.0</td>\n",
       "      <td>521.0</td>\n",
       "      <td>77.0</td>\n",
       "      <td>NaN</td>\n",
       "      <td>19598.0</td>\n",
       "      <td>NaN</td>\n",
       "      <td>0.049444</td>\n",
       "      <td>0.026584</td>\n",
       "      <td>0.003929</td>\n",
       "      <td>NaN</td>\n",
       "      <td>1.0</td>\n",
       "    </tr>\n",
       "    <tr>\n",
       "      <th>3</th>\n",
       "      <td>NaN</td>\n",
       "      <td>76.0</td>\n",
       "      <td>40.0</td>\n",
       "      <td>1.0</td>\n",
       "      <td>NaN</td>\n",
       "      <td>1549.0</td>\n",
       "      <td>NaN</td>\n",
       "      <td>0.049064</td>\n",
       "      <td>0.025823</td>\n",
       "      <td>0.000646</td>\n",
       "      <td>NaN</td>\n",
       "      <td>1.0</td>\n",
       "    </tr>\n",
       "    <tr>\n",
       "      <th>4</th>\n",
       "      <td>NaN</td>\n",
       "      <td>4036.0</td>\n",
       "      <td>2355.0</td>\n",
       "      <td>654.0</td>\n",
       "      <td>5.0</td>\n",
       "      <td>111169.0</td>\n",
       "      <td>NaN</td>\n",
       "      <td>0.036305</td>\n",
       "      <td>0.021184</td>\n",
       "      <td>0.005883</td>\n",
       "      <td>0.000045</td>\n",
       "      <td>1.0</td>\n",
       "    </tr>\n",
       "  </tbody>\n",
       "</table>\n",
       "</div>"
      ],
      "text/plain": [
       "   possessive-endings  personal  possessive  wh-non-possessive  wh-possessive  \\\n",
       "0                10.0   17928.0      6795.0             2336.0           36.0   \n",
       "1                 NaN     768.0       358.0              113.0            1.0   \n",
       "2                 NaN     969.0       521.0               77.0            NaN   \n",
       "3                 NaN      76.0        40.0                1.0            NaN   \n",
       "4                 NaN    4036.0      2355.0              654.0            5.0   \n",
       "\n",
       "        sum  possessive-endings_pct  personal_pct  possessive_pct  \\\n",
       "0  398494.0                0.000025      0.044989        0.017052   \n",
       "1   17150.0                     NaN      0.044781        0.020875   \n",
       "2   19598.0                     NaN      0.049444        0.026584   \n",
       "3    1549.0                     NaN      0.049064        0.025823   \n",
       "4  111169.0                     NaN      0.036305        0.021184   \n",
       "\n",
       "   wh-non-possessive_pct  wh-possessive_pct  sum_pct  \n",
       "0               0.005862           0.000090      1.0  \n",
       "1               0.006589           0.000058      1.0  \n",
       "2               0.003929                NaN      1.0  \n",
       "3               0.000646                NaN      1.0  \n",
       "4               0.005883           0.000045      1.0  "
      ]
     },
     "execution_count": 55,
     "metadata": {},
     "output_type": "execute_result"
    }
   ],
   "source": [
    "asdPOS = asdPOS.join(asdPOS.div(asdPOS['sum'], axis=0), rsuffix='_pct')\n",
    "asdPOS.head()"
   ]
  },
  {
   "cell_type": "code",
   "execution_count": 56,
   "metadata": {},
   "outputs": [
    {
     "data": {
      "text/html": [
       "<div>\n",
       "<style>\n",
       "    .dataframe thead tr:only-child th {\n",
       "        text-align: right;\n",
       "    }\n",
       "\n",
       "    .dataframe thead th {\n",
       "        text-align: left;\n",
       "    }\n",
       "\n",
       "    .dataframe tbody tr th {\n",
       "        vertical-align: top;\n",
       "    }\n",
       "</style>\n",
       "<table border=\"1\" class=\"dataframe\">\n",
       "  <thead>\n",
       "    <tr style=\"text-align: right;\">\n",
       "      <th></th>\n",
       "      <th>possessive-endings</th>\n",
       "      <th>personal</th>\n",
       "      <th>possessive</th>\n",
       "      <th>wh-non-possessive</th>\n",
       "      <th>wh-possessive</th>\n",
       "      <th>sum</th>\n",
       "      <th>possessive-endings_pct</th>\n",
       "      <th>personal_pct</th>\n",
       "      <th>possessive_pct</th>\n",
       "      <th>wh-non-possessive_pct</th>\n",
       "      <th>wh-possessive_pct</th>\n",
       "      <th>sum_pct</th>\n",
       "    </tr>\n",
       "  </thead>\n",
       "  <tbody>\n",
       "    <tr>\n",
       "      <th>0</th>\n",
       "      <td>NaN</td>\n",
       "      <td>19.0</td>\n",
       "      <td>20.0</td>\n",
       "      <td>1.0</td>\n",
       "      <td>1.0</td>\n",
       "      <td>2966.0</td>\n",
       "      <td>NaN</td>\n",
       "      <td>0.006406</td>\n",
       "      <td>0.006743</td>\n",
       "      <td>0.000337</td>\n",
       "      <td>0.000337</td>\n",
       "      <td>1.0</td>\n",
       "    </tr>\n",
       "    <tr>\n",
       "      <th>1</th>\n",
       "      <td>NaN</td>\n",
       "      <td>7559.0</td>\n",
       "      <td>3562.0</td>\n",
       "      <td>632.0</td>\n",
       "      <td>12.0</td>\n",
       "      <td>240264.0</td>\n",
       "      <td>NaN</td>\n",
       "      <td>0.031461</td>\n",
       "      <td>0.014825</td>\n",
       "      <td>0.002630</td>\n",
       "      <td>0.000050</td>\n",
       "      <td>1.0</td>\n",
       "    </tr>\n",
       "    <tr>\n",
       "      <th>2</th>\n",
       "      <td>2.0</td>\n",
       "      <td>8039.0</td>\n",
       "      <td>3050.0</td>\n",
       "      <td>838.0</td>\n",
       "      <td>11.0</td>\n",
       "      <td>213099.0</td>\n",
       "      <td>0.000009</td>\n",
       "      <td>0.037724</td>\n",
       "      <td>0.014313</td>\n",
       "      <td>0.003932</td>\n",
       "      <td>0.000052</td>\n",
       "      <td>1.0</td>\n",
       "    </tr>\n",
       "    <tr>\n",
       "      <th>3</th>\n",
       "      <td>11.0</td>\n",
       "      <td>5229.0</td>\n",
       "      <td>1959.0</td>\n",
       "      <td>770.0</td>\n",
       "      <td>6.0</td>\n",
       "      <td>106342.0</td>\n",
       "      <td>0.000103</td>\n",
       "      <td>0.049172</td>\n",
       "      <td>0.018422</td>\n",
       "      <td>0.007241</td>\n",
       "      <td>0.000056</td>\n",
       "      <td>1.0</td>\n",
       "    </tr>\n",
       "    <tr>\n",
       "      <th>4</th>\n",
       "      <td>9.0</td>\n",
       "      <td>1439.0</td>\n",
       "      <td>847.0</td>\n",
       "      <td>91.0</td>\n",
       "      <td>1.0</td>\n",
       "      <td>28770.0</td>\n",
       "      <td>0.000313</td>\n",
       "      <td>0.050017</td>\n",
       "      <td>0.029440</td>\n",
       "      <td>0.003163</td>\n",
       "      <td>0.000035</td>\n",
       "      <td>1.0</td>\n",
       "    </tr>\n",
       "  </tbody>\n",
       "</table>\n",
       "</div>"
      ],
      "text/plain": [
       "   possessive-endings  personal  possessive  wh-non-possessive  wh-possessive  \\\n",
       "0                 NaN      19.0        20.0                1.0            1.0   \n",
       "1                 NaN    7559.0      3562.0              632.0           12.0   \n",
       "2                 2.0    8039.0      3050.0              838.0           11.0   \n",
       "3                11.0    5229.0      1959.0              770.0            6.0   \n",
       "4                 9.0    1439.0       847.0               91.0            1.0   \n",
       "\n",
       "        sum  possessive-endings_pct  personal_pct  possessive_pct  \\\n",
       "0    2966.0                     NaN      0.006406        0.006743   \n",
       "1  240264.0                     NaN      0.031461        0.014825   \n",
       "2  213099.0                0.000009      0.037724        0.014313   \n",
       "3  106342.0                0.000103      0.049172        0.018422   \n",
       "4   28770.0                0.000313      0.050017        0.029440   \n",
       "\n",
       "   wh-non-possessive_pct  wh-possessive_pct  sum_pct  \n",
       "0               0.000337           0.000337      1.0  \n",
       "1               0.002630           0.000050      1.0  \n",
       "2               0.003932           0.000052      1.0  \n",
       "3               0.007241           0.000056      1.0  \n",
       "4               0.003163           0.000035      1.0  "
      ]
     },
     "execution_count": 56,
     "metadata": {},
     "output_type": "execute_result"
    }
   ],
   "source": [
    "controlsPOS = controlsPOS.join(controlsPOS.div(controlsPOS['sum'], axis=0), rsuffix='_pct')\n",
    "controlsPOS.head()"
   ]
  },
  {
   "cell_type": "code",
   "execution_count": 57,
   "metadata": {},
   "outputs": [
    {
     "name": "stderr",
     "output_type": "stream",
     "text": [
      "/Users/paytonk/anaconda3/lib/python3.6/site-packages/numpy/core/fromnumeric.py:57: FutureWarning: reshape is deprecated and will raise in a subsequent release. Please use .values.reshape(...) instead\n",
      "  return getattr(obj, method)(*args, **kwds)\n"
     ]
    },
    {
     "data": {
      "image/png": "[encoded data removed]",
      "text/plain": [
       "<matplotlib.figure.Figure at 0x11f951908>"
      ]
     },
     "metadata": {},
     "output_type": "display_data"
    }
   ],
   "source": [
    "fig = plt.figure()\n",
    "fig.suptitle('Personal Pronoun Usage', fontsize=14, fontweight='bold')\n",
    "\n",
    "ax = fig.add_subplot(111)\n",
    "ax.boxplot([asdPOS[\"personal_pct\"].dropna(),controlsPOS[\"personal_pct\"].dropna()], labels=[\"ASD Bloggers\", \"Control Bloggers\"])\n",
    "\n",
    "ax.set_xlabel('Blogger Type')\n",
    "ax.set_ylabel('Percent of Language')\n",
    "\n",
    "plt.show()"
   ]
  },
  {
   "cell_type": "code",
   "execution_count": 58,
   "metadata": {},
   "outputs": [
    {
     "name": "stderr",
     "output_type": "stream",
     "text": [
      "/Users/paytonk/anaconda3/lib/python3.6/site-packages/numpy/core/fromnumeric.py:57: FutureWarning: reshape is deprecated and will raise in a subsequent release. Please use .values.reshape(...) instead\n",
      "  return getattr(obj, method)(*args, **kwds)\n"
     ]
    },
    {
     "data": {
      "image/png": "[encoded data removed]",
      "text/plain": [
       "<matplotlib.figure.Figure at 0x11fb35978>"
      ]
     },
     "metadata": {},
     "output_type": "display_data"
    }
   ],
   "source": [
    "fig = plt.figure()\n",
    "fig.suptitle('Possessive Endings Usage', fontsize=14, fontweight='bold')\n",
    "\n",
    "ax = fig.add_subplot(111)\n",
    "ax.boxplot([asdPOS[\"possessive-endings_pct\"].dropna(),controlsPOS[\"possessive-endings_pct\"].dropna()], labels=[\"ASD Bloggers\", \"Control Bloggers\"])\n",
    "\n",
    "ax.set_xlabel('Blogger Type')\n",
    "ax.set_ylabel('Percent of Language')\n",
    "\n",
    "plt.show()"
   ]
  },
  {
   "cell_type": "code",
   "execution_count": 59,
   "metadata": {},
   "outputs": [
    {
     "name": "stderr",
     "output_type": "stream",
     "text": [
      "/Users/paytonk/anaconda3/lib/python3.6/site-packages/numpy/core/fromnumeric.py:57: FutureWarning: reshape is deprecated and will raise in a subsequent release. Please use .values.reshape(...) instead\n",
      "  return getattr(obj, method)(*args, **kwds)\n"
     ]
    },
    {
     "data": {
      "image/png": "[encoded data removed]",
      "text/plain": [
       "<matplotlib.figure.Figure at 0x1107d1710>"
      ]
     },
     "metadata": {},
     "output_type": "display_data"
    }
   ],
   "source": [
    "fig = plt.figure()\n",
    "fig.suptitle('Possesive Pronoun Usage', fontsize=14, fontweight='bold')\n",
    "\n",
    "ax = fig.add_subplot(111)\n",
    "ax.boxplot([asdPOS[\"possessive_pct\"].dropna(),controlsPOS[\"possessive_pct\"].dropna()], labels=[\"ASD Bloggers\", \"Control Bloggers\"])\n",
    "\n",
    "ax.set_xlabel('Blogger Type')\n",
    "ax.set_ylabel('Percent of Language')\n",
    "\n",
    "plt.show()"
   ]
  },
  {
   "cell_type": "code",
   "execution_count": 60,
   "metadata": {},
   "outputs": [
    {
     "name": "stderr",
     "output_type": "stream",
     "text": [
      "/Users/paytonk/anaconda3/lib/python3.6/site-packages/numpy/core/fromnumeric.py:57: FutureWarning: reshape is deprecated and will raise in a subsequent release. Please use .values.reshape(...) instead\n",
      "  return getattr(obj, method)(*args, **kwds)\n"
     ]
    },
    {
     "data": {
      "image/png": "[encoded data removed]",
      "text/plain": [
       "<matplotlib.figure.Figure at 0x115e2c4e0>"
      ]
     },
     "metadata": {},
     "output_type": "display_data"
    }
   ],
   "source": [
    "fig = plt.figure()\n",
    "fig.suptitle('Wh- Pronoun Usage', fontsize=14, fontweight='bold')\n",
    "\n",
    "ax = fig.add_subplot(111)\n",
    "ax.boxplot([asdPOS[\"wh-possessive_pct\"].dropna(),controlsPOS[\"wh-possessive_pct\"].dropna()], labels=[\"ASD Bloggers\", \"Control Bloggers\"])\n",
    "\n",
    "ax.set_xlabel('Blogger Type')\n",
    "ax.set_ylabel('Percent of Language')\n",
    "\n",
    "plt.show()"
   ]
  },
  {
   "cell_type": "code",
   "execution_count": null,
   "metadata": {
    "collapsed": true
   },
   "outputs": [],
   "source": []
  }
 ],
 "metadata": {
  "kernelspec": {
   "display_name": "Python 3",
   "language": "python",
   "name": "python3"
  },
  "language_info": {
   "codemirror_mode": {
    "name": "ipython",
    "version": 3
   },
   "file_extension": ".py",
   "mimetype": "text/x-python",
   "name": "python",
   "nbconvert_exporter": "python",
   "pygments_lexer": "ipython3",
   "version": "3.6.3"
  }
 },
 "nbformat": 4,
 "nbformat_minor": 2
}
