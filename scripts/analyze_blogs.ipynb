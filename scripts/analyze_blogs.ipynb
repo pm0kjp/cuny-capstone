{
 "cells": [
  {
   "cell_type": "markdown",
   "metadata": {},
   "source": [
    "# Blog Text Analysis\n",
    "\n",
    "The goals of this ipython notebook include:\n",
    "\n",
    "- Open each corpus (saved to file from a previous script)\n",
    "- Analyzes corpus for parts of speech\n",
    "- Analyzes corpus for topics (important for matching)\n",
    "- Saves data about blog in deidentified way (using blog id #)\n",
    "\n",
    "## Part 1: Setup\n",
    "\n",
    "First, we load modules we need."
   ]
  },
  {
   "cell_type": "code",
   "execution_count": 7,
   "metadata": {
    "collapsed": true
   },
   "outputs": [],
   "source": [
    "import nltk\n",
    "import pandas as pd\n",
    "import os\n",
    "import re\n",
    "from collections import Counter"
   ]
  },
  {
   "cell_type": "markdown",
   "metadata": {},
   "source": [
    "## Part 2: Define Functions\n",
    "\n",
    "`analyzeTextForPOS` allows us to analyze the text that we've scraped and count parts of speech, using the Penn Treebank tagger."
   ]
  },
  {
   "cell_type": "code",
   "execution_count": 8,
   "metadata": {
    "collapsed": true
   },
   "outputs": [],
   "source": [
    "def analyzeTextForPOS (blogstring):\n",
    "    # Tokenize the text\n",
    "    tokens = nltk.word_tokenize(blogstring.lower())\n",
    "    text = nltk.Text(tokens)\n",
    "    # get parts of speech for each token\n",
    "    tags = nltk.pos_tag(text)\n",
    "    # count how many times each pos is used\n",
    "    counts = Counter(tag for word,tag in tags)\n",
    "    # note that the POS abbreviations can be understood here:\n",
    "    # https://www.ling.upenn.edu/courses/Fall_2003/ling001/penn_treebank_pos.html\n",
    "    # return the counts as a dictionary\n",
    "    return(dict(counts))"
   ]
  },
  {
   "cell_type": "markdown",
   "metadata": {},
   "source": [
    "## Part 3: Get Corpora\n",
    "\n",
    "We'll iterate through the saved corpora on disk (these are not included, for the sake of subject privacy, in the GitHub repo for this project).  Each blog has its own directory, in which .txt files for each individual blog post are stored.\n"
   ]
  },
  {
   "cell_type": "code",
   "execution_count": 10,
   "metadata": {},
   "outputs": [],
   "source": [
    "asd_directory = \"../confidential/corpora/ASD/\"\n",
    "controls_directory = \"../confidential/corpora/controls/\"\n",
    "\n",
    "asd_blog_dirs = []\n",
    "controls_blog_dirs = []\n",
    "for root, dirs, files in os.walk(asd_directory):\n",
    "    asd_blog_dirs += dirs\n",
    "for root, dirs, files in os.walk(controls_directory):\n",
    "    controls_blog_dirs += dirs"
   ]
  },
  {
   "cell_type": "code",
   "execution_count": 11,
   "metadata": {},
   "outputs": [],
   "source": [
    "# todo:\n",
    "# get rid of the ones that end in ?share= ....txt or _#comments.txt\n",
    "# or keep them from being collected to begin with!\n",
    "asdPartOfSpeechDicts = []\n",
    "controlsPartOfSpeechDicts = []\n",
    "for blog_dir in asd_blog_dirs:\n",
    "    for filename in os.listdir(asd_directory + blog_dir):\n",
    "        m = re.match(re.compile(\".+\\.txt\"), filename) \n",
    "        if m:\n",
    "            file = open((asd_directory + blog_dir + \"/\" + filename), \"r\") \n",
    "            text = file.read()\n",
    "            asdPartOfSpeechDicts.append(analyzeTextForPOS(text))\n",
    "for blog_dir in controls_blog_dirs:\n",
    "    for filename in os.listdir(controls_directory + blog_dir):\n",
    "        m = re.match(re.compile(\".+\\.txt\"), filename) \n",
    "        if m:\n",
    "            file = open((controls_directory + blog_dir + \"/\" + filename), \"r\") \n",
    "            text = file.read()\n",
    "            controlsPartOfSpeechDicts.append(analyzeTextForPOS(text))"
   ]
  },
  {
   "cell_type": "code",
   "execution_count": 12,
   "metadata": {},
   "outputs": [
    {
     "name": "stdout",
     "output_type": "stream",
     "text": [
      "       #    $   ''     (     )     ,   .    :  CC    CD ...    VBD   VBG  \\\n",
      "0    NaN  NaN  NaN   NaN   NaN   NaN   5  NaN   1   NaN ...    NaN   2.0   \n",
      "1    NaN  NaN  NaN   3.0   3.0   6.0  16  NaN   7   1.0 ...   13.0   2.0   \n",
      "2    NaN  NaN  NaN   3.0   3.0   9.0  16  NaN  18   5.0 ...    9.0   8.0   \n",
      "3    NaN  1.0  NaN  10.0  10.0  10.0  26  NaN  19  17.0 ...   21.0  19.0   \n",
      "4    NaN  NaN  NaN   NaN   NaN   6.0  14  NaN   8   2.0 ...    4.0   8.0   \n",
      "5    NaN  NaN  NaN   7.0   7.0  23.0  26  NaN  32   8.0 ...   72.0  16.0   \n",
      "6    NaN  NaN  NaN   3.0   3.0   6.0  20  NaN  12   3.0 ...   28.0  10.0   \n",
      "7    NaN  NaN  NaN   3.0   3.0   5.0  10  NaN   8   2.0 ...   11.0   5.0   \n",
      "8    NaN  NaN  NaN   4.0   4.0   5.0  15  NaN  13   5.0 ...   23.0   6.0   \n",
      "9    NaN  NaN  NaN   5.0   5.0   4.0  15  NaN  21   NaN ...   23.0  10.0   \n",
      "10   NaN  NaN  NaN   3.0   3.0  10.0  17  NaN  28   6.0 ...   13.0   8.0   \n",
      "11   NaN  NaN  NaN   NaN   NaN   3.0  11  NaN  11   NaN ...    8.0   4.0   \n",
      "12   1.0  NaN  NaN   3.0   3.0   7.0  13  NaN  19  12.0 ...    3.0  13.0   \n",
      "13   NaN  NaN  NaN   3.0   3.0   6.0  23  NaN  19   1.0 ...   36.0   8.0   \n",
      "14   NaN  NaN  NaN   2.0   2.0   2.0  18  NaN  12   3.0 ...   18.0   8.0   \n",
      "15   NaN  NaN  NaN   2.0   2.0   4.0  20  NaN  13   4.0 ...   31.0   7.0   \n",
      "16   NaN  NaN  NaN   1.0   1.0   3.0  13  NaN  12   1.0 ...   11.0   7.0   \n",
      "17   NaN  NaN  NaN   2.0   2.0   3.0   7  NaN   9   2.0 ...   16.0  10.0   \n",
      "18   NaN  NaN  NaN   6.0   6.0   2.0  25  NaN  26   6.0 ...   46.0  11.0   \n",
      "19   1.0  NaN  NaN   2.0   2.0   1.0  17  NaN  14   4.0 ...   27.0   6.0   \n",
      "20   2.0  NaN  NaN   5.0   5.0   6.0  24  NaN  31  14.0 ...   65.0   9.0   \n",
      "21   NaN  NaN  NaN   1.0   1.0   3.0  19  NaN  22   8.0 ...   28.0   9.0   \n",
      "22   NaN  NaN  NaN   3.0   3.0   6.0  20  NaN  26   2.0 ...   45.0   9.0   \n",
      "23   NaN  NaN  NaN   5.0   5.0   3.0  11  NaN  15   1.0 ...   22.0   5.0   \n",
      "24   NaN  NaN  NaN   6.0   6.0   6.0  18  2.0  16   2.0 ...    9.0  17.0   \n",
      "25   NaN  NaN  NaN   2.0   2.0   8.0  17  NaN  17   5.0 ...   40.0  10.0   \n",
      "26   NaN  NaN  NaN   3.0   3.0   9.0  17  1.0  17   9.0 ...   35.0   6.0   \n",
      "27   2.0  NaN  NaN   NaN   NaN   4.0  21  2.0  17  12.0 ...   29.0  14.0   \n",
      "28   NaN  NaN  NaN   7.0   7.0   8.0  17  NaN  26   3.0 ...   15.0  19.0   \n",
      "29   NaN  NaN  NaN   2.0   2.0   9.0  19  NaN  21   3.0 ...   32.0   8.0   \n",
      "..   ...  ...  ...   ...   ...   ...  ..  ...  ..   ... ...    ...   ...   \n",
      "628  NaN  NaN  NaN   2.0   2.0  33.0  38  NaN  22  16.0 ...   11.0  12.0   \n",
      "629  NaN  NaN  NaN   NaN   NaN  25.0  27  1.0  32   3.0 ...   20.0  12.0   \n",
      "630  NaN  NaN  NaN   NaN   NaN  27.0  18  6.0  14   3.0 ...    1.0   7.0   \n",
      "631  NaN  NaN  NaN   NaN   NaN  31.0  25  1.0  14   NaN ...   15.0  14.0   \n",
      "632  NaN  NaN  NaN   NaN   NaN  28.0  19  NaN  14   9.0 ...   26.0  22.0   \n",
      "633  NaN  NaN  NaN   2.0   2.0  31.0  33  NaN  28   6.0 ...   26.0   4.0   \n",
      "634  NaN  NaN  NaN   1.0   1.0  11.0   3  NaN  17   2.0 ...    3.0   9.0   \n",
      "635  NaN  NaN  2.0   NaN   NaN  95.0  82  5.0  65   5.0 ...  128.0  35.0   \n",
      "636  NaN  NaN  NaN   NaN   NaN  59.0  40  NaN  26   6.0 ...   22.0  15.0   \n",
      "637  NaN  NaN  NaN   NaN   NaN  38.0  43  NaN  38   NaN ...   38.0  17.0   \n",
      "638  NaN  1.0  NaN   1.0   1.0  42.0  58  7.0  29   9.0 ...   65.0  15.0   \n",
      "639  NaN  NaN  NaN   3.0   3.0  66.0  48  NaN  49  15.0 ...   69.0  23.0   \n",
      "640  NaN  NaN  NaN   4.0   4.0  41.0  50  2.0  33   7.0 ...   31.0  16.0   \n",
      "641  NaN  NaN  NaN   1.0   1.0  29.0  51  NaN  25   5.0 ...   61.0  25.0   \n",
      "642  NaN  NaN  NaN   8.0   8.0  92.0  49  NaN  49  11.0 ...   79.0  29.0   \n",
      "643  NaN  NaN  NaN   NaN   NaN  43.0  36  NaN  41   6.0 ...   73.0  21.0   \n",
      "644  NaN  NaN  NaN   NaN   NaN  67.0  52  1.0  30  10.0 ...   51.0  29.0   \n",
      "645  NaN  NaN  NaN   NaN   NaN  67.0  61  2.0  39   8.0 ...   43.0  32.0   \n",
      "646  NaN  NaN  NaN   2.0   2.0  20.0  11  NaN   7   1.0 ...    1.0  11.0   \n",
      "647  NaN  NaN  NaN   2.0   2.0  44.0  44  NaN  32   4.0 ...   37.0  11.0   \n",
      "648  1.0  NaN  NaN   1.0   1.0  90.0  82  2.0  81  18.0 ...  109.0  46.0   \n",
      "649  NaN  NaN  NaN   NaN   NaN   7.0   3  NaN   5   1.0 ...    NaN   1.0   \n",
      "650  NaN  NaN  NaN   6.0   6.0  64.0  41  8.0  52   3.0 ...   33.0  22.0   \n",
      "651  NaN  NaN  NaN   3.0   3.0  52.0  51  2.0  42   8.0 ...   52.0  36.0   \n",
      "652  NaN  NaN  NaN   NaN   NaN  41.0  51  3.0  40  10.0 ...   76.0  20.0   \n",
      "653  NaN  NaN  NaN   1.0   1.0  39.0  57  NaN  41   7.0 ...   30.0  25.0   \n",
      "654  NaN  NaN  NaN   7.0   7.0  60.0  71  3.0  21   6.0 ...   20.0  21.0   \n",
      "655  NaN  NaN  NaN   NaN   NaN  37.0  46  1.0  35   9.0 ...   47.0  21.0   \n",
      "656  NaN  NaN  NaN   1.0   1.0  12.0   5  4.0  15   2.0 ...    5.0  14.0   \n",
      "657  NaN  NaN  NaN   1.0   1.0  26.0  32  3.0  30   9.0 ...   15.0  16.0   \n",
      "\n",
      "      VBN   VBP   VBZ   WDT   WP  WP$   WRB  ``  \n",
      "0     NaN   2.0   1.0   NaN  1.0  NaN   NaN NaN  \n",
      "1     6.0  16.0   8.0   3.0  NaN  NaN   1.0 NaN  \n",
      "2     9.0  15.0  15.0   1.0  2.0  NaN   2.0 NaN  \n",
      "3    12.0  24.0  24.0   NaN  1.0  NaN   3.0 NaN  \n",
      "4     2.0  11.0   7.0   1.0  NaN  NaN   2.0 NaN  \n",
      "5    16.0  18.0  14.0   9.0  1.0  NaN   1.0 NaN  \n",
      "6     5.0  14.0   9.0   2.0  NaN  NaN   3.0 NaN  \n",
      "7     6.0  17.0   8.0   2.0  1.0  NaN   1.0 NaN  \n",
      "8     9.0  16.0  13.0   2.0  NaN  NaN   1.0 NaN  \n",
      "9    14.0  15.0   6.0   2.0  1.0  NaN   1.0 NaN  \n",
      "10    4.0  15.0  17.0   4.0  NaN  NaN   1.0 NaN  \n",
      "11    4.0  12.0   3.0   NaN  NaN  NaN   NaN NaN  \n",
      "12   12.0  17.0   5.0   2.0  NaN  NaN   3.0 NaN  \n",
      "13    6.0  14.0   8.0   5.0  NaN  NaN   1.0 NaN  \n",
      "14    4.0   8.0   4.0   1.0  NaN  NaN   NaN NaN  \n",
      "15    4.0   5.0   5.0   2.0  1.0  NaN   NaN NaN  \n",
      "16    6.0  11.0   9.0   1.0  NaN  NaN   NaN NaN  \n",
      "17    2.0  12.0   6.0   2.0  2.0  NaN   1.0 NaN  \n",
      "18   15.0  14.0  12.0   2.0  3.0  NaN   1.0 NaN  \n",
      "19    8.0  14.0  10.0   6.0  NaN  NaN   2.0 NaN  \n",
      "20    8.0  19.0   8.0   4.0  5.0  NaN   4.0 NaN  \n",
      "21    6.0  15.0  19.0   1.0  NaN  NaN   1.0 NaN  \n",
      "22    8.0  23.0  12.0   3.0  NaN  NaN   1.0 NaN  \n",
      "23    3.0  10.0   3.0   1.0  1.0  NaN   1.0 NaN  \n",
      "24   10.0  28.0  22.0   5.0  1.0  NaN   1.0 NaN  \n",
      "25    4.0  21.0   9.0   9.0  NaN  NaN   1.0 NaN  \n",
      "26   12.0  19.0  18.0   6.0  NaN  NaN   1.0 NaN  \n",
      "27    9.0  17.0  11.0   5.0  NaN  NaN   3.0 NaN  \n",
      "28    9.0  21.0  27.0   NaN  4.0  NaN   4.0 NaN  \n",
      "29    6.0  14.0  14.0   1.0  1.0  NaN   3.0 NaN  \n",
      "..    ...   ...   ...   ...  ...  ...   ...  ..  \n",
      "628   6.0  24.0  21.0   4.0  3.0  1.0   3.0 NaN  \n",
      "629   3.0   2.0   1.0   NaN  NaN  NaN   2.0 NaN  \n",
      "630   8.0  14.0  13.0   2.0  5.0  NaN   NaN NaN  \n",
      "631   5.0  11.0   7.0   2.0  8.0  NaN   4.0 NaN  \n",
      "632   9.0   9.0   9.0   4.0  2.0  NaN   5.0 NaN  \n",
      "633  11.0  32.0   7.0   1.0  2.0  NaN   3.0 NaN  \n",
      "634   2.0  17.0   6.0   NaN  1.0  NaN   6.0 NaN  \n",
      "635  42.0  42.0  15.0   3.0  9.0  NaN   8.0 NaN  \n",
      "636  15.0  36.0  19.0   7.0  5.0  NaN   5.0 NaN  \n",
      "637   7.0  29.0  12.0   1.0  8.0  NaN   4.0 NaN  \n",
      "638  23.0  26.0  19.0   7.0  8.0  NaN   5.0 NaN  \n",
      "639  23.0  26.0  25.0   3.0  3.0  NaN   8.0 NaN  \n",
      "640  14.0  21.0  30.0   6.0  7.0  NaN   3.0 NaN  \n",
      "641  20.0  15.0  10.0   NaN  4.0  NaN   4.0 NaN  \n",
      "642  19.0  21.0  10.0   2.0  6.0  NaN   5.0 NaN  \n",
      "643  25.0   3.0   7.0   5.0  8.0  NaN   5.0 NaN  \n",
      "644  28.0  33.0  19.0   1.0  6.0  NaN   9.0 NaN  \n",
      "645  19.0  29.0  12.0   1.0  5.0  NaN   5.0 NaN  \n",
      "646   1.0   2.0   9.0   1.0  NaN  NaN   NaN NaN  \n",
      "647  12.0  32.0  23.0   NaN  3.0  NaN   3.0 NaN  \n",
      "648  44.0  26.0  24.0  10.0  8.0  1.0   9.0 NaN  \n",
      "649   4.0   4.0   4.0   NaN  1.0  NaN   2.0 NaN  \n",
      "650  21.0  20.0  25.0   2.0  3.0  NaN   1.0 NaN  \n",
      "651  20.0  21.0  15.0   5.0  2.0  NaN   6.0 NaN  \n",
      "652  24.0  19.0  14.0   2.0  3.0  NaN  10.0 NaN  \n",
      "653  16.0  35.0  22.0   6.0  1.0  NaN   7.0 NaN  \n",
      "654  14.0  31.0  39.0   1.0  7.0  NaN   3.0 NaN  \n",
      "655  15.0  12.0  11.0   4.0  3.0  NaN   4.0 NaN  \n",
      "656   8.0  19.0   9.0   NaN  NaN  NaN   1.0 NaN  \n",
      "657  11.0  30.0  10.0   2.0  3.0  NaN   4.0 NaN  \n",
      "\n",
      "[658 rows x 44 columns]\n"
     ]
    }
   ],
   "source": [
    "print(pd.DataFrame(controlsPartOfSpeechDicts))"
   ]
  },
  {
   "cell_type": "code",
   "execution_count": null,
   "metadata": {
    "collapsed": true
   },
   "outputs": [],
   "source": []
  }
 ],
 "metadata": {
  "kernelspec": {
   "display_name": "Python 3",
   "language": "python",
   "name": "python3"
  },
  "language_info": {
   "codemirror_mode": {
    "name": "ipython",
    "version": 3
   },
   "file_extension": ".py",
   "mimetype": "text/x-python",
   "name": "python",
   "nbconvert_exporter": "python",
   "pygments_lexer": "ipython3",
   "version": "3.6.3"
  }
 },
 "nbformat": 4,
 "nbformat_minor": 2
}
