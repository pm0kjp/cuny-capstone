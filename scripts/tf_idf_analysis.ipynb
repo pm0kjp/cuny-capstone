{
 "cells": [
  {
   "cell_type": "markdown",
   "metadata": {},
   "source": [
    "Shamelessly stolen from http://carrefax.com/new-blog/2017/11/25/create-a-gensim-corpus-for-text-files-in-a-local-directory"
   ]
  },
  {
   "cell_type": "markdown",
   "metadata": {},
   "source": [
    "NOT SURE TF-IDF is the way to do topic mining! LDA might be better."
   ]
  },
  {
   "cell_type": "code",
   "execution_count": 3,
   "metadata": {},
   "outputs": [],
   "source": [
    "import os, gensim\n",
    "from gensim.models import TfidfModel\n",
    "\n",
    "def iter_documents(top_directory):\n",
    "    \"\"\"Iterate over all documents, yielding a document (=list of utf8 tokens) at a time.\"\"\"\n",
    "    for root, dirs, files in os.walk(top_directory):\n",
    "        for file in filter(lambda file: file.endswith('.txt'), files):\n",
    "            document = open(os.path.join(root, file)).read() # read the entire document, as one big string\n",
    "            yield gensim.utils.tokenize(document, lower=True) # or whatever tokenization suits you\n",
    "\n",
    "class MyCorpus(object):\n",
    "    def __init__(self, top_dir):\n",
    "        self.top_dir = top_dir\n",
    "        self.dictionary = gensim.corpora.Dictionary(iter_documents(top_dir))\n",
    "        self.dictionary.filter_extremes(no_below=1, keep_n=30000) # check API docs for pruning params\n",
    "\n",
    "    def __iter__(self):\n",
    "        for tokens in iter_documents(self.top_dir):\n",
    "            yield self.dictionary.doc2bow(tokens)\n",
    "\n",
    "corpus = MyCorpus('../confidential/corpora') # create a dictionary\n",
    "#for vector in corpus: # convert each document to a bag-of-word vector\n",
    " #   print (vector)"
   ]
  },
  {
   "cell_type": "code",
   "execution_count": 4,
   "metadata": {},
   "outputs": [],
   "source": [
    "tfidf = TfidfModel(corpus)\n"
   ]
  },
  {
   "cell_type": "code",
   "execution_count": 10,
   "metadata": {},
   "outputs": [],
   "source": [
    "# Show the topic for a given post\n",
    "def showTopic(postnumber) :\n",
    "    sorted_tfidf_weights = sorted(tfidf[list(corpus)[postnumber]], key=lambda w: w[1], reverse=True)\n",
    "    for term_id, weight in sorted_tfidf_weights[:100]:\n",
    "        print(corpus.dictionary.get(term_id), weight)"
   ]
  },
  {
   "cell_type": "code",
   "execution_count": 9,
   "metadata": {},
   "outputs": [
    {
     "name": "stdout",
     "output_type": "stream",
     "text": [
      "aspie 0.490526206364\n",
      "culture 0.266555073212\n",
      "plunge 0.211110091323\n",
      "why 0.188777919086\n",
      "neuro 0.14103329207\n",
      "directs 0.130296984941\n",
      "isms 0.130296984941\n",
      "parmesan 0.130296984941\n",
      "screeching 0.130296984941\n",
      "mode 0.125454797766\n",
      "defines 0.121785594317\n",
      "discoveries 0.121785594317\n",
      "realized 0.119418308784\n",
      "ism 0.115746666564\n",
      "sidestep 0.115746666564\n",
      "color 0.115090786112\n",
      "type 0.111673046528\n",
      "mashed 0.111062510289\n",
      "handle 0.111029752897\n",
      "engineers 0.10723527594\n",
      "qualified 0.103999395405\n",
      "figured 0.101011438922\n",
      "antsy 0.098723885316\n",
      "stressor 0.098723885316\n",
      "potatoes 0.0945114718635\n",
      "texture 0.0945114718635\n",
      "spend 0.0927361331163\n",
      "definitely 0.0914092352689\n",
      "cheese 0.089449077028\n",
      "tribe 0.0887124515466\n",
      "gate 0.0880008012879\n",
      "refreshing 0.0880008012879\n",
      "am 0.0879991496566\n",
      "influences 0.0873124880768\n",
      "airport 0.0835984166551\n",
      "preference 0.0830386055551\n",
      "smell 0.081961873535\n",
      "talent 0.0814435343066\n",
      "identifying 0.0799611534864\n",
      "knock 0.078134639186\n",
      "boat 0.0777018058687\n",
      "collect 0.0724262957797\n",
      "incredible 0.0724262957797\n",
      "ness 0.0717702526321\n",
      "definition 0.0708230992467\n",
      "tolerate 0.0702146023757\n",
      "insight 0.0696232485618\n",
      "flight 0.0687663266357\n",
      "taste 0.0687663266357\n",
      "productive 0.0679430182831\n"
     ]
    }
   ],
   "source": [
    "showTopic(0)"
   ]
  },
  {
   "cell_type": "code",
   "execution_count": 11,
   "metadata": {},
   "outputs": [
    {
     "name": "stdout",
     "output_type": "stream",
     "text": [
      "expectations 0.147956382263\n",
      "penalizes 0.143804264669\n",
      "automatically 0.14062621085\n",
      "system 0.13087811152\n",
      "bright 0.126689360687\n",
      "cloud 0.110442142681\n",
      "brain 0.108579763423\n",
      "thrill 0.103250500628\n",
      "practice 0.100752391322\n",
      "tasks 0.0960201258776\n",
      "unreasonable 0.0958172121367\n",
      "criticism 0.0934135527304\n",
      "homework 0.0903494065039\n",
      "twice 0.086942130772\n",
      "kindergarten 0.0866837549381\n",
      "exercises 0.0866837549381\n",
      "screwed 0.0829964283707\n",
      "incorrect 0.0818993060051\n",
      "engaging 0.0763085471418\n",
      "eye 0.0755642934912\n",
      "assumption 0.0747349310788\n",
      "within 0.0745356424421\n",
      "ace 0.0719021323344\n",
      "atta 0.0719021323344\n",
      "budding 0.0719021323344\n",
      "hardened 0.0719021323344\n",
      "hyperlinked 0.0719021323344\n",
      "impressionable 0.0719021323344\n",
      "meshing 0.0719021323344\n",
      "proportionately 0.0719021323344\n",
      "pummeling 0.0719021323344\n",
      "ricocheted 0.0719021323344\n",
      "shabby 0.0719021323344\n",
      "syrupy 0.0719021323344\n",
      "tracing 0.0719021323344\n",
      "maybe 0.0712866707824\n",
      "topic 0.0708212085424\n",
      "why 0.0702819517984\n",
      "adding 0.0700088589686\n",
      "learning 0.0699237085781\n",
      "daily 0.0697765988093\n",
      "tests 0.0697089903114\n",
      "elements 0.0679951062286\n",
      "switch 0.0677226773543\n",
      "contact 0.0672405519598\n",
      "executive 0.0661589056524\n",
      "guilty 0.0661589056524\n",
      "doesn 0.0658322956397\n",
      "able 0.0655600799778\n",
      "ranked 0.0646793612266\n",
      "demented 0.0646793612266\n",
      "footing 0.0646793612266\n",
      "agonizingly 0.0646793612266\n",
      "baffles 0.0646793612266\n",
      "divert 0.0646793612266\n",
      "grenade 0.0646793612266\n",
      "multiplication 0.0646793612266\n",
      "piddly 0.0646793612266\n",
      "child 0.064273387491\n",
      "assumptions 0.0642411846786\n",
      "mean 0.063923255932\n",
      "glow 0.062354148284\n",
      "interconnected 0.062354148284\n",
      "scholarship 0.062354148284\n",
      "engage 0.0622757018202\n",
      "felt 0.062045579099\n",
      "bundled 0.0604543109772\n",
      "worksheets 0.0604543109772\n",
      "disciplinary 0.0604543109772\n",
      "hemispheres 0.0604543109772\n",
      "composure 0.0604543109772\n",
      "bases 0.0604543109772\n",
      "scholastic 0.0604543109772\n",
      "atop 0.0604543109772\n",
      "concentrated 0.0604543109772\n",
      "dime 0.0604543109772\n",
      "flawlessly 0.0604543109772\n",
      "literate 0.0604543109772\n",
      "powerlessness 0.0604543109772\n",
      "roadblocks 0.0604543109772\n",
      "peoples 0.0595450057298\n",
      "systemize 0.0574565901187\n",
      "systemizer 0.0574565901187\n",
      "bureaucratic 0.0574565901187\n",
      "dip 0.0574565901187\n",
      "glitches 0.0574565901187\n",
      "linear 0.0574565901187\n",
      "sheepish 0.0574565901187\n",
      "submerged 0.0574565901187\n",
      "torrents 0.0574565901187\n",
      "greasy 0.0562292607278\n",
      "array 0.0562292607278\n",
      "fail 0.0554128430876\n",
      "ivy 0.0551313771762\n",
      "league 0.0551313771762\n",
      "simplest 0.0551313771762\n",
      "wither 0.0551313771762\n",
      "thanking 0.0541382206976\n",
      "insides 0.0541382206976\n",
      "excruciating 0.0541382206976\n"
     ]
    }
   ],
   "source": [
    "showTopic(100)"
   ]
  },
  {
   "cell_type": "code",
   "execution_count": 54,
   "metadata": {},
   "outputs": [
    {
     "name": "stdout",
     "output_type": "stream",
     "text": [
      "again\n"
     ]
    }
   ],
   "source": [
    "sorted"
   ]
  },
  {
   "cell_type": "code",
   "execution_count": null,
   "metadata": {
    "collapsed": true
   },
   "outputs": [],
   "source": []
  },
  {
   "cell_type": "code",
   "execution_count": 38,
   "metadata": {},
   "outputs": [
    {
     "name": "stdout",
     "output_type": "stream",
     "text": [
      " I may have a social disability.  I may say or do things that seem strange to you or put you off or leave you wondering. This could–and sometimes does–lead to misunderstandings and unnecessary hurt feelings, on either side–or both sides. I want to be your friend.  It’s just that aspects of life that the general population may take for granted as natural and intuitive are, for me, anything but.  Aspects like communication (whether verbal or by way of facial expressions and/or body language), socialization, etiquette, and so on and on and on. It’s not you; it’s me.  Well, actually, it’s our intersection.  It’s not a character flaw, just a neurodevelopmental variant.  It happens, and it’s OK. I’ll explain.  In fact, I’ll provide you with a mini-handbook, a roadmap to the inside of the social areas of my brain. I’m just not into gossip.  I’m not into hearing about people I don’t know.  It’s clutter in my brain that I can’t clear out. I don’t want to go to a noisy place.  Being seen somewhere trendy is somewhere well underneath my priority list.  I thrive best in small, cozy, intimate settings, ones that the average extrovert might find boring.  Quiet, calm places with few people, neutral-colored decor, and dim-ish, ambient lighting. When it comes to small talk, I don’t know what to say.  So when the topic is more superficial or otherwise outside of my interests (which are actually quite varied), I tend to flub and flounder.  There may be sudden pauses and awkward silences.  I tend to gravitate toward people with whom that’s OK, with whom I don’t feel so awkward during those pauses and periods of silence. I’m not “up on” most current events or major public figures.  I tend not to be too interested in people as a rule, although I can assure you that if I’m spending time with you, I’m interested in you. I can’t eat at certain restaurants, because I taste food very strongly, and my tastebuds are selective.  I do enjoy a variety of cuisines and flavors, but I tend to be selective within each cuisine. I’m not interested in the vast majority of the movies in theaters these days.  The last movie I saw was Lucy, in 2012. You can tell me practically anything; your secret is safe with me.  I operate a mostly Judgment-Free Zone, and you’d be surprised what you can tell me that you might not be comfortable telling anyone else, with no ostracism from me. I may have to break a commitment, sometimes with not much notice, if my mental or social energy just isn’t there.  I’m kind of a different person when I run low.  I’m not, really, but I’m probably going to seem that way.  If I have to bail on you on short notice, please know that that was a very last resort, and I feel really bad about having to do it. I may not be wonderful at keeping in contact with you on a regular basis, but if I know that you’re going through a particularly tough time, I’ll be there for you. That said, please don’t ignore me until you want something.  I’m not a commodity to be consumed or a resource to be used and then put away.  I’m not a potential sales prospect.  I’m a person in your personal life.  I’m also a great listener and sounding board, but I’m not a counselor, and I can only handle so much bad news, even if it doesn’t involve me directly. If you tell me about a problem, I might launch into “fix-it” mode, when really all you needed was someone to nod and say, “I hear you”.  Oops.  I don’t mean to not be there for you, nor am I trying to tell you what to do; I’m simply trying to ease your pain by way of the most constructive avenue I can think of, and that’s to offer potential solutions or ideas.  If this happens, please don’t take offense. My friendships are quality over quantity, so if we’re hanging out, you’re probably one of three active friendships in my life at that time. I may be crappy at responding to emails or texts, but I try my best. Last but not least, don’t worry if we don’t have contact for a while.  You haven’t dropped off my radar or out of my mind.  I’m probably thinking about you every day, hoping you are well, and when we reconnect, there won’t be any questions asked about our dormant time, nor any reacquainting awkwardness; when we get together again, we’ll just pick up where we left off.  🙂 *** This is one of my most popular posts! ❤ ❤ ❤       \n"
     ]
    }
   ],
   "source": [
    "#print(doclist[0])"
   ]
  },
  {
   "cell_type": "code",
   "execution_count": null,
   "metadata": {
    "collapsed": true
   },
   "outputs": [],
   "source": []
  }
 ],
 "metadata": {
  "kernelspec": {
   "display_name": "Python 3",
   "language": "python",
   "name": "python3"
  },
  "language_info": {
   "codemirror_mode": {
    "name": "ipython",
    "version": 3
   },
   "file_extension": ".py",
   "mimetype": "text/x-python",
   "name": "python",
   "nbconvert_exporter": "python",
   "pygments_lexer": "ipython3",
   "version": "3.6.3"
  }
 },
 "nbformat": 4,
 "nbformat_minor": 2
}
